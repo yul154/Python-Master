{
 "cells": [
  {
   "cell_type": "markdown",
   "metadata": {},
   "source": [
    "# Operations in Stack(abstract data type)\n",
    "\n",
    "Name|Description\n",
    "----|---------\n",
    "Stack()| creates a new stack that is empty. It needs no parameters and returns an empty stack.\n",
    "push(item)| adds a new item to the top of the stack. It needs the item and returns nothing.\n",
    "pop()| removes the top item from the stack. It needs no parameters and returns the item. The stack is modified.\n",
    "peek()| returns the top item from the stack but does not remove it. It needs no parameters. The stack is not modified.\n",
    "isEmpty()| tests to see whether the stack is empty. It needs no parameters and returns a boolean value.\n",
    "size()| returns the number of items on the stack. It needs no parameters and returns an integer."
   ]
  },
  {
   "cell_type": "code",
   "execution_count": 86,
   "metadata": {},
   "outputs": [],
   "source": [
    "class Stack:\n",
    "    def __init__(self):\n",
    "        self.stack=[]\n",
    "        \n",
    "    def push(self,item):\n",
    "        self.stack.append(item)\n",
    "        \n",
    "    def pop(self):\n",
    "        return self.stack.pop()\n",
    "    \n",
    "    def peek(self):\n",
    "        return self.stack[-1]\n",
    "    \n",
    "    def isEmpty(self):\n",
    "        return len(self.stack)==0\n",
    "    \n",
    "    def size(self):\n",
    "        return len(self.stack)\n"
   ]
  },
  {
   "cell_type": "code",
   "execution_count": 87,
   "metadata": {},
   "outputs": [],
   "source": [
    "def reversed_string(string):\n",
    "    s=Stack()\n",
    "    for i in string:\n",
    "        s.push(i)\n",
    "    n=''\n",
    "    while not s.isEmpty():\n",
    "        n+=s.pop()\n",
    "    return n"
   ]
  },
  {
   "cell_type": "markdown",
   "metadata": {},
   "source": [
    "# Simple Balanced Parentheses\n",
    "\n",
    "> (((()))) is balanced\n",
    "\n",
    ">())) is unbalanced"
   ]
  },
  {
   "cell_type": "code",
   "execution_count": 64,
   "metadata": {},
   "outputs": [],
   "source": [
    "def checker_balanced_Parentheses(parentheses):\n",
    "    s=Stack()\n",
    "    lst=list(parentheses)\n",
    "    if lst[0]==')'or lst[-1]=='(':\n",
    "        return False\n",
    "    for i in lst:\n",
    "        if i=='(':\n",
    "            s.push(i)\n",
    "        elif i==')' and not s.isEmpty():\n",
    "            s.pop()\n",
    "        else:\n",
    "            return False\n",
    "    \n",
    "    if s.isEmpty():\n",
    "        return True\n",
    "    else:\n",
    "        return False\n",
    "        "
   ]
  },
  {
   "cell_type": "code",
   "execution_count": 67,
   "metadata": {},
   "outputs": [],
   "source": [
    "def parChecker(symbol):\n",
    "    s=Stack()\n",
    "    lst=list(symbol)\n",
    "    for i in lst:\n",
    "        if i in '{[(':\n",
    "            s.push(i)\n",
    "        else:\n",
    "            if s.peek()==match(i) and not s.isEmpty():\n",
    "                s.pop()\n",
    "            else:\n",
    "                return False\n",
    "    if s.isEmpty():\n",
    "        return True\n",
    "    else:\n",
    "        return False\n",
    "def match(s):\n",
    "    if s==')':\n",
    "        return '('\n",
    "    elif s=='}':\n",
    "        return '{'\n",
    "    else:\n",
    "        return '['"
   ]
  },
  {
   "cell_type": "markdown",
   "metadata": {},
   "source": [
    "# Converting decimal number\n",
    ">  takes a decimal number and any base between 2 and 16 as parameters"
   ]
  },
  {
   "cell_type": "code",
   "execution_count": 84,
   "metadata": {},
   "outputs": [],
   "source": [
    "def BaseConverter(decNum,base):\n",
    "    digits='0123456789ABCDEF'\n",
    "    s=Stack()\n",
    "    while decNum>0:\n",
    "        n=decNum%base\n",
    "        s.push(n)\n",
    "        decNum=decNum//base\n",
    "    result=''\n",
    "    while not s.isEmpty():\n",
    "        result+=digits[s.pop()]\n",
    "    return result"
   ]
  },
  {
   "cell_type": "markdown",
   "metadata": {},
   "source": [
    "# Infix, Prefix and Postfix Expressions\n",
    "> Prefix expression notation requires that all operators precede the two operands that they work on. \n",
    "\n",
    "> Postfix, on the other hand, requires that its operators come after the corresponding operands.\n",
    "\n",
    "* tip1: if '('push it until met')',and then pop until met'('\n",
    "* tip2: when push item on stack, compare precedence,if item in stack is larger, pop it and push new item on stack, if not directly push new item on stack"
   ]
  },
  {
   "cell_type": "code",
   "execution_count": 158,
   "metadata": {},
   "outputs": [],
   "source": [
    "def infixToPostfix(infixexpr):\n",
    "    pre={}\n",
    "    pre['+']=1\n",
    "    pre['-']=1\n",
    "    pre['*']=2\n",
    "    pre['/']=2\n",
    "    pre['(']=0\n",
    "    pre['^']=3\n",
    "    lst=infixexpr.split(' ')\n",
    "    output=[]\n",
    "    s=Stack()\n",
    "    for i in lst:\n",
    "        if i not in '+-/*()^':\n",
    "            output.append(i)\n",
    "        elif i=='(':\n",
    "            s.push(i)\n",
    "        elif i==')':\n",
    "            n=s.pop()\n",
    "            while n!='(':\n",
    "                output.append(n)\n",
    "                n=s.pop()\n",
    "        else:\n",
    "            while not s.isEmpty() and pre[s.peek()]>=pre[i]:\n",
    "                output.append(s.pop())\n",
    "            s.push(i)\n",
    "    while not s.isEmpty():\n",
    "        output.append(s.pop())\n",
    "    return ''.join(output)\n",
    "            "
   ]
  },
  {
   "cell_type": "code",
   "execution_count": 6,
   "metadata": {},
   "outputs": [
    {
     "name": "stdout",
     "output_type": "stream",
     "text": [
      "3.0\n"
     ]
    }
   ],
   "source": [
    "from pythonds.basic.stack import Stack\n",
    "def postfixEval(string):\n",
    "    s=Stack()\n",
    "    string=string.split()\n",
    "    for i in string:\n",
    "        if i in \"0123456789\":\n",
    "            s.push(int(i))\n",
    "        else:\n",
    "            a=s.pop()\n",
    "            b=s.pop()\n",
    "            result=doMath(i,b,a)\n",
    "            s.push(result)\n",
    "    return s.pop()\n",
    "\n",
    "def doMath(op, op1, op2):\n",
    "    if op == \"*\":\n",
    "        return op1 * op2\n",
    "    elif op == \"/\":\n",
    "        return op1 / op2\n",
    "    elif op == \"+\":\n",
    "        return op1 + op2\n",
    "    else:\n",
    "        return op1 - op2\n",
    "\n",
    "print(postfixEval('7 8 + 3 2 + /'))"
   ]
  },
  {
   "cell_type": "code",
   "execution_count": null,
   "metadata": {},
   "outputs": [],
   "source": []
  }
 ],
 "metadata": {
  "kernelspec": {
   "display_name": "Python 3",
   "language": "python",
   "name": "python3"
  },
  "language_info": {
   "codemirror_mode": {
    "name": "ipython",
    "version": 3
   },
   "file_extension": ".py",
   "mimetype": "text/x-python",
   "name": "python",
   "nbconvert_exporter": "python",
   "pygments_lexer": "ipython3",
   "version": "3.6.3"
  }
 },
 "nbformat": 4,
 "nbformat_minor": 2
}
