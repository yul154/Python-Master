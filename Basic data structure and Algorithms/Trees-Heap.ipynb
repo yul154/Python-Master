{
 "cells": [
  {
   "cell_type": "markdown",
   "metadata": {},
   "source": [
    "# Heap as One Array"
   ]
  },
  {
   "cell_type": "code",
   "execution_count": 2,
   "metadata": {},
   "outputs": [],
   "source": [
    "class Heap(object):\n",
    "    def __init__(self,size):\n",
    "        self.heap=[0]*size# initialize slots of the heap\n",
    "        self.size=size\n",
    "        self.re_size=0# track size change\n",
    "    def insert(self,item):\n",
    "        if self.re_size==self.size:\n",
    "            return \n",
    "        self.heap[self.re_size]=item\n",
    "        self.re_size+=1\n",
    "        self.heapiup(self.resize-1)# fixing violation\n",
    "    def heapiup(self,index):\n",
    "        parent_index=(index-1)//2\n",
    "        if index>0 and self.heap[index]>self.heap[parent_index]:\n",
    "            self.heap[index],self.heap[paren_index]=self.heap[paren_index],self.heap[index]\n",
    "            self.heapify(parent_index)\n",
    "    def peek(self):\n",
    "        return self.heap[0]\n",
    "    def pop(self):\n",
    "        priority=self.peek()\n",
    "        self.heap[0],self.heap[re_size-1]=self.heap[re_size-1],self.heap[0]\n",
    "        self.heapidown(0)\n",
    "        return priority\n",
    "    def heapidown(self,index):\n",
    "        left_index=index*2+1\n",
    "        right_index=index*2+2\n",
    "        cur=index\n",
    "        if left_index<self.re_size and self.heap[index]<self.heap[left_index]:\n",
    "            cur=index_left\n",
    "        if right_index<self.re_size and self.heap[index]<self.heap[cur]:\n",
    "            cur=index_right\n",
    "        if index!=cur:\n",
    "            self.heap[index],self.heap[cur]=self.heap[cur],self.heap[index]\n",
    "            self.heapidown[cur]\n",
    "    def heapsort(self):\n",
    "        lst=[]\n",
    "        for i in range(0,self.re_size):#n times\n",
    "            priority=self.pop()# logn\n",
    "            lst.append(priority)\n",
    "        return lst"
   ]
  },
  {
   "cell_type": "markdown",
   "metadata": {},
   "source": [
    "# Binary Heap as List\n",
    "\n",
    "Name|Description\n",
    "----|------------\n",
    "BinaryHeap()| creates a new, empty, binary heap.\n",
    "insert(k)| adds a new item to the heap.\n",
    "findMin()| returns the item with the minimum key value, leaving item in the heap.\n",
    "delMin()| returns the item with the minimum key value, removing the item from the heap.\n",
    "isEmpty()| returns true if the heap is empty, false otherwise.\n",
    "size()| returns the number of items in the heap.\n",
    "buildHeap(list)| builds a new heap from a list of keys."
   ]
  },
  {
   "cell_type": "code",
   "execution_count": 2,
   "metadata": {},
   "outputs": [],
   "source": [
    "class BinaryHeap:\n",
    "    def __init__(self):\n",
    "        self.heap=[0]\n",
    "        self.size=0\n",
    "    def insert(self,i):\n",
    "        self.heap.append(i)\n",
    "        self.size+=1\n",
    "        self.heapfy(self.size)\n",
    "    def heapfy(self,k):\n",
    "        while k//2>0:\n",
    "            if self.heap[k]>self.heap[k//2]:\n",
    "                self.heap[k],self.heap[k//2]=self.heap[k//2],self[k]\n",
    "            k=k//2\n",
    "\n",
    "            \n",
    "    def delMin(self):\n",
    "        mini=self.heap[0]\n",
    "        self.heap[0]=self.heap[self.size]\n",
    "        self.size-=1\n",
    "        self.heap.pop()\n",
    "        self.down(1)\n",
    "        return mini\n",
    "    def down(self):\n",
    "        while (i*2)<=self.size:\n",
    "            mc=self.minChild(i)\n",
    "            if self.heap[i]>self.heap[mc]:\n",
    "                self.heap[i],self.heap[mc]=self.heap[mc],self.heap[i]\n",
    "            i=mc\n",
    "    def minChild(self,i):\n",
    "        if i*2+1>self.size:\n",
    "            return i*2\n",
    "        else:\n",
    "            if self.heap[i*2]<self.heap[i*2+1]:\n",
    "                return i*2\n",
    "            else:\n",
    "                return i*2+1-0\n",
    "        \n",
    "    def buildHeap(self,alist):\n",
    "        i=len(alist)//2\n",
    "        self.size=len(alist)\n",
    "        self.heap=[0]+alist[:]\n",
    "        while(i>0):\n",
    "            self.down(i)\n",
    "            i-=1"
   ]
  },
  {
   "cell_type": "markdown",
   "metadata": {},
   "source": [
    "# Heap in Python"
   ]
  },
  {
   "cell_type": "markdown",
   "metadata": {},
   "source": [
    "# `heapq` VS `sort()`\n",
    "\n",
    "* Adding new element preserving inner order in any heap is faster than resorting array after each insertion.\n",
    "* The sorted is faster if you will need to retrieve all elements in order later.\n",
    "* Advantage of `heapq.merge()`is **lower peak memory use** if you iterate over the results"
   ]
  },
  {
   "cell_type": "markdown",
   "metadata": {},
   "source": [
    "## addition functions\n",
    "* `heapq.heapreplace(heap, item)`:more efficient than a `heappop(`) followed by `heappush()`\n",
    "\n",
    "* `heapq.heappushpop(heap, item)`: more efficiently than `heappush()` followed by a separate call to `heappop()`\n",
    "\n",
    "* `heapq.merge(*iterables, key=None, reverse=False)`:Merge multiple sorted inputs into a single sorted output\n",
    "\n",
    "* `heapq.nlargest(n, iterable, key=None)`:Return a list with the n largest elements from the dataset defined by iterable\n",
    "* `heapq.nsmallest(n, iterable, key=None)`:Return a list with the n smallest elements from the dataset defined by iterable\n",
    "\n",
    "* The latter two functions perform best for smaller values of n. For larger values, it is more efficient to use the sorted() function.\n",
    "*  Also, when `n==1`, it is more efficient to use the built-in `min()` and `max()` functions. "
   ]
  },
  {
   "cell_type": "code",
   "execution_count": 38,
   "metadata": {},
   "outputs": [
    {
     "name": "stdout",
     "output_type": "stream",
     "text": [
      "[-2, 4, 3, 12, 6, 8, 9]\n",
      "-2\n",
      "3\n",
      "4\n",
      "6\n",
      "8\n",
      "9\n",
      "12\n"
     ]
    },
    {
     "data": {
      "text/plain": [
       "[-2, 3, 8, 6, 4, 12, 9]"
      ]
     },
     "execution_count": 38,
     "metadata": {},
     "output_type": "execute_result"
    }
   ],
   "source": [
    "from heapq import heappop,heappush,heapify\n",
    "#The property is min heap.\n",
    "heap=[]\n",
    "nums=[12,3,-2,6,4,8,9]\n",
    "for num in nums:\n",
    "    heappush(heap,num)\n",
    "print(heap)\n",
    "while heap:\n",
    "    print(heappop(heap))\n",
    "\n",
    "heapify(nums)\n",
    "nums"
   ]
  },
  {
   "cell_type": "code",
   "execution_count": 15,
   "metadata": {},
   "outputs": [
    {
     "name": "stdout",
     "output_type": "stream",
     "text": [
      "[9, 8]\n",
      "[1, 2]\n"
     ]
    }
   ],
   "source": [
    "from heapq import nsmallest,nlargest\n",
    "lst = [9,1,6,4,2,8,3,7,5]\n",
    "print(nlargest(2,lst))\n",
    "print(nsmallest(2,lst))"
   ]
  },
  {
   "cell_type": "code",
   "execution_count": 22,
   "metadata": {},
   "outputs": [
    {
     "name": "stdout",
     "output_type": "stream",
     "text": [
      "[1, 2, 3, 4, 5, 6]\n",
      "[1, 2, 3, 4, 5, 6]\n"
     ]
    }
   ],
   "source": [
    "from heapq import merge\n",
    "l1=[1,3,5]\n",
    "l2=[2,4,6]\n",
    "print(list(merge(l1,l2)))# merge generate an interator\n",
    "print(sorted(l1+l2))\n",
    "# l1.extend(l2), sorted(l1)"
   ]
  },
  {
   "cell_type": "code",
   "execution_count": 37,
   "metadata": {},
   "outputs": [
    {
     "data": {
      "text/plain": [
       "[(1, 5, 7), (2, 4, 8)]"
      ]
     },
     "execution_count": 37,
     "metadata": {},
     "output_type": "execute_result"
    }
   ],
   "source": [
    "l1=[1,7,5]\n",
    "l2=[2,8,4]\n",
    "n=list(zip(*sorted(zip(l1,l2))))\n",
    "n"
   ]
  },
  {
   "cell_type": "code",
   "execution_count": null,
   "metadata": {},
   "outputs": [],
   "source": [
    "def networkDelayTime(self, times, N, K):\n",
    "        pq = []\n",
    "        adj = [[] for _ in range(N+1)]\n",
    "        for time in times:\n",
    "            adj[time[0]].append((time[1], time[2]))\n",
    "\n",
    "        fin, res = set(), 0\n",
    "        heapq.heappush(pq, (0, K))\n",
    "\n",
    "        while len(pq) and len(fin) != N:\n",
    "            cur = heapq.heappop(pq)\n",
    "            fin.add(cur[1])\n",
    "            res = cur[0]\n",
    "            for child, t in adj[cur[1]]:\n",
    "                if child in fin: continue\n",
    "                heapq.heappush(pq, (t+cur[0], child))\n",
    "\n",
    "        return res if len(fin) == N else -1"
   ]
  }
 ],
 "metadata": {
  "kernelspec": {
   "display_name": "Python 3",
   "language": "python",
   "name": "python3"
  },
  "language_info": {
   "codemirror_mode": {
    "name": "ipython",
    "version": 3
   },
   "file_extension": ".py",
   "mimetype": "text/x-python",
   "name": "python",
   "nbconvert_exporter": "python",
   "pygments_lexer": "ipython3",
   "version": "3.6.3"
  }
 },
 "nbformat": 4,
 "nbformat_minor": 2
}
