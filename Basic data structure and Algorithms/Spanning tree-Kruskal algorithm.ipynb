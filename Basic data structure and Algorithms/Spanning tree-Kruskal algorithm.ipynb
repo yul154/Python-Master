{
 "cells": [
  {
   "cell_type": "code",
   "execution_count": 2,
   "metadata": {},
   "outputs": [],
   "source": [
    "class Vertex(object):\n",
    "    def __init__(self,name):\n",
    "        self.name=name\n",
    "        self.node=node\n",
    "        \n",
    "class Node(object):# represents in disjoint sets\n",
    "    def __init__(self,height,node_id,parent_node):\n",
    "        self.height=height\n",
    "        self.node_id=node_id\n",
    "        seld.parent_node=parent_node\n",
    "        \n",
    "class Edge(object):\n",
    "    def __init__(self,weight,start,end):\n",
    "        self.weight=weight\n",
    "        self.start=start\n",
    "        self.end=end\n",
    "    def __cmp__(self,other):\n",
    "        return self.cmp(self.weight,other,weight)\n",
    "    def __lt__(self,other):\n",
    "        selfPriority=self.weight\n",
    "        otherPriority=other.weight\n",
    "        return selfPriority<otherPriority       "
   ]
  },
  {
   "cell_type": "code",
   "execution_count": null,
   "metadata": {},
   "outputs": [],
   "source": [
    "class DisjointSet(object):\n",
    "    def __init__(self,vertexlist):\n",
    "        self.vertexlist=vertexlist\n",
    "        self.rootnode=[]\n",
    "        self.node_count=0\n",
    "        self.set_count=0\n",
    "        self.makeSets(vertexlist)\n",
    "    def find(self,node):\n",
    "        current=node\n",
    "        while current.parent_node:\n",
    "            current=current.parent_node\n",
    "        root =current\n",
    "        current=node\n",
    "        while current is not root:\n",
    "            temp=currrent.parent\n",
    "            current.parent=root\n",
    "            current=temp\n",
    "        return root.node_id\n",
    "    def merge(node1,node2):\n",
    "        index1=self.find(node1)\n",
    "        index2=self.find(node2)\n",
    "        if index1==index2:\n",
    "            return ('same set')\n",
    "        root1=self.root(index1)\n",
    "        root2=self.root(index2)\n",
    "        if roo1.height<root2.height2:\n",
    "            root1.parentnode=root2\n",
    "        elif roo1.height>root2.height2:\n",
    "            root2.parentnode=root1\n",
    "        else:\n",
    "            root2.parentnode=root1\n",
    "            root1.height+=1\n",
    "    def makeSets(self,vertexlist):\n",
    "        for v in vertexlist:\n",
    "            self.makeSet(v)\n",
    "    def makeSet(self,vertex):\n",
    "        node=Node(0,len(self.root),None)\n",
    "        vertex.node=node\n",
    "        self.root.append(node)\n",
    "        self.set_count+=1\n",
    "        self.node_count+=1"
   ]
  },
  {
   "cell_type": "code",
   "execution_count": null,
   "metadata": {},
   "outputs": [],
   "source": [
    "class Kruskal(object):\n",
    "    def spanningTree(self,vertexlist,edgelist):\n",
    "        disjoint=Disjointset(vertexlist)\n",
    "        spanningTres=[]\n",
    "        edgelist.sort()\n",
    "        for e in edgelist:\n",
    "            u=e.start\n",
    "            v=e.end\n",
    "            if disjoint.find(u.node) is not disjoint.find(v.node):\n",
    "                SpanningTree.append(e)\n",
    "                disjoint.merge(u.node,v.node)\n",
    "        for e in spanningTree:\n",
    "            print(e.start.name,'-',e.end.name)\n",
    "        "
   ]
  }
 ],
 "metadata": {
  "kernelspec": {
   "display_name": "Python 3",
   "language": "python",
   "name": "python3"
  },
  "language_info": {
   "codemirror_mode": {
    "name": "ipython",
    "version": 3
   },
   "file_extension": ".py",
   "mimetype": "text/x-python",
   "name": "python",
   "nbconvert_exporter": "python",
   "pygments_lexer": "ipython3",
   "version": "3.6.3"
  }
 },
 "nbformat": 4,
 "nbformat_minor": 2
}
