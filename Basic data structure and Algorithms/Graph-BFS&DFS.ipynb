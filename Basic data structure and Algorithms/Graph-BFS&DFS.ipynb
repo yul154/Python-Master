{
 "cells": [
  {
   "cell_type": "markdown",
   "metadata": {},
   "source": [
    "# BFS"
   ]
  },
  {
   "cell_type": "code",
   "execution_count": 3,
   "metadata": {},
   "outputs": [],
   "source": [
    "from collections import deque\n",
    "def BFS(graph,start):\n",
    "    q=deque()\n",
    "    res=[]\n",
    "    q.append(start)\n",
    "    while q:\n",
    "        cur=q.popleft()\n",
    "        res.append(cur)\n",
    "        neighbors=graph[cur]\n",
    "        for neighbor in neighbors:\n",
    "            q.append(neighbor)\n",
    "    return res"
   ]
  },
  {
   "cell_type": "markdown",
   "metadata": {},
   "source": [
    "```\n",
    "BFS(G, s)\n",
    "For each vertex u exept s\n",
    "    Do Color[u] = WHITE\n",
    "        Distance[u] = MAX\n",
    "        Parent[u] = NIL\n",
    "Color[s] = GRAY\n",
    "Distance[s] = 0\n",
    "Parent[s] = NIL\n",
    "Enqueue(Q, s)\n",
    "While Q not empty\n",
    "    Do u = Dequeue(Q)\n",
    "        For each v is the neighbor of u\n",
    "            Do if Color[v] == WHITE\n",
    "                Color[v] = GRAY\n",
    "                Distance[v] = Distance[u] + 1\n",
    "                Parent[v] = u\n",
    "                Enqueue(Q, v)\n",
    "            Color[u] = BLACK”\n",
    "```"
   ]
  },
  {
   "cell_type": "markdown",
   "metadata": {},
   "source": [
    "# DFS"
   ]
  },
  {
   "cell_type": "code",
   "execution_count": 4,
   "metadata": {},
   "outputs": [],
   "source": [
    "def DFS(graph,start):\n",
    "    stack=[]\n",
    "    res=[]\n",
    "    stack.append(start)\n",
    "    while stack:\n",
    "        cur=stack.pop()\n",
    "        res.append(cur)\n",
    "        neighbors=graph[cur]\n",
    "        for neighbor in neighbors:\n",
    "            stack.append(neighbor)\n",
    "    return res"
   ]
  },
  {
   "cell_type": "code",
   "execution_count": null,
   "metadata": {},
   "outputs": [],
   "source": [
    "def DFS_recursive(graph,start):\n",
    "    res=[]\n",
    "    if not start:\n",
    "        return res\n",
    "    else:\n",
    "        res.append(start)\n",
    "        neighbors=graph[start]\n",
    "        for neighbor in neighbors:\n",
    "            res+=DFS_recursive(neighbor)\n",
    "    \n",
    "    return res"
   ]
  },
  {
   "cell_type": "code",
   "execution_count": null,
   "metadata": {},
   "outputs": [],
   "source": []
  }
 ],
 "metadata": {
  "kernelspec": {
   "display_name": "Python 3",
   "language": "python",
   "name": "python3"
  },
  "language_info": {
   "codemirror_mode": {
    "name": "ipython",
    "version": 3
   },
   "file_extension": ".py",
   "mimetype": "text/x-python",
   "name": "python",
   "nbconvert_exporter": "python",
   "pygments_lexer": "ipython3",
   "version": "3.6.3"
  }
 },
 "nbformat": 4,
 "nbformat_minor": 2
}
