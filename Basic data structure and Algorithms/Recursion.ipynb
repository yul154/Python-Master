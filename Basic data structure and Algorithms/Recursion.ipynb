{
 "cells": [
  {
   "cell_type": "markdown",
   "metadata": {},
   "source": [
    "# Factorial"
   ]
  },
  {
   "cell_type": "code",
   "execution_count": 5,
   "metadata": {},
   "outputs": [
    {
     "data": {
      "text/plain": [
       "120"
      ]
     },
     "execution_count": 5,
     "metadata": {},
     "output_type": "execute_result"
    }
   ],
   "source": [
    "def factorial(num):\n",
    "    if num==0:\n",
    "        return 0\n",
    "    elif num==1:\n",
    "        return 1\n",
    "    else:\n",
    "        return num*factorial(num-1)\n",
    "factorial(5)"
   ]
  },
  {
   "cell_type": "markdown",
   "metadata": {},
   "source": [
    "#  Fibonacci sequence"
   ]
  },
  {
   "cell_type": "code",
   "execution_count": 12,
   "metadata": {},
   "outputs": [
    {
     "data": {
      "text/plain": [
       "[1, 1, 2, 3, 5, 8, 13, 21, 34, 55]"
      ]
     },
     "execution_count": 12,
     "metadata": {},
     "output_type": "execute_result"
    }
   ],
   "source": [
    "# Recursion\n",
    "def Fib(num):\n",
    "    if num<=2:\n",
    "        return 1\n",
    "    else:\n",
    "        return Fib(num-1)+Fib(num-2)\n",
    "l=[]\n",
    "for i in range(10):\n",
    "    l.append(Fib(i))\n",
    "l\n",
    "# Iteration\n",
    "def Fib_iter(num):\n",
    "    if num<=2:\n",
    "        lst=[1,1]\n",
    "    else:\n",
    "        lst=[1,1]\n",
    "        for i in range(2,num):\n",
    "            lst.append(lst[i-1]+lst[i-2])\n",
    "    return lst\n",
    "Fib_iter(10)   "
   ]
  },
  {
   "cell_type": "markdown",
   "metadata": {},
   "source": [
    "# Palindrome"
   ]
  },
  {
   "cell_type": "code",
   "execution_count": 2,
   "metadata": {},
   "outputs": [],
   "source": [
    "import string\n",
    "def removeWhite(s):\n",
    "    s=s.replace(' ','')\n",
    "    s=''.join(i for i in s if i not in string.punctuation)\n",
    "    return s\n",
    "\n",
    "def isPal(s):\n",
    "    s=removeWhite(s)\n",
    "    if len(s)<2:\n",
    "        return True\n",
    "    else:\n",
    "        if s[0]!=s[-1]:\n",
    "            return False\n",
    "        else:\n",
    "            return isPal(s[1:-1])"
   ]
  },
  {
   "cell_type": "markdown",
   "metadata": {},
   "source": [
    "# DFS"
   ]
  },
  {
   "cell_type": "code",
   "execution_count": 15,
   "metadata": {},
   "outputs": [],
   "source": [
    "import turtle\n",
    "def tree(branchLen,t):\n",
    "    if branchLen > 5:\n",
    "        t.forward(branchLen)\n",
    "        t.right(15)\n",
    "        tree(branchLen-25,t)\n",
    "        t.left(30)\n",
    "        tree(branchLen-25,t)\n",
    "        t.right(15)\n",
    "        t.backward(branchLen)\n",
    "\n",
    "def main():\n",
    "    t = turtle.Turtle()\n",
    "    myWin = turtle.Screen()\n",
    "    t.left(90)\n",
    "    t.up()\n",
    "    t.backward(100)\n",
    "    t.down()\n",
    "    t.color(\"green\")\n",
    "    tree(75,t)\n",
    "    myWin.exitonclick()\n",
    "\n",
    "main()"
   ]
  },
  {
   "cell_type": "markdown",
   "metadata": {},
   "source": [
    "# Tower of Hanoi\n",
    "> transfer all 64 disks from one of the three poles to another\n",
    "\n",
    "Two important constraints\n",
    "1. only move one disk at a time\n",
    "2. never place a larger disk on top of a smaller one."
   ]
  },
  {
   "cell_type": "code",
   "execution_count": 1,
   "metadata": {},
   "outputs": [],
   "source": [
    "def Movesmallerdice(height,from_,to_,with_):\n",
    "    if height>=1:\n",
    "        Movesmallerdice(height-1,from_,with_,to_)\n",
    "        Movelargerdice(from_,to_)\n",
    "        Movesmallerdice(height-1,with_,to_,from_)\n",
    "def Movelargerdice(from_,to_):\n",
    "    print('move dice from',from_,'to',to_)"
   ]
  },
  {
   "cell_type": "code",
   "execution_count": 2,
   "metadata": {
    "scrolled": true
   },
   "outputs": [
    {
     "name": "stdout",
     "output_type": "stream",
     "text": [
      "move dice from 1 to 3\n",
      "move dice from 1 to 2\n",
      "move dice from 3 to 2\n",
      "move dice from 1 to 3\n",
      "move dice from 2 to 1\n",
      "move dice from 2 to 3\n",
      "move dice from 1 to 3\n",
      "move dice from 1 to 2\n",
      "move dice from 3 to 2\n",
      "move dice from 3 to 1\n",
      "move dice from 2 to 1\n",
      "move dice from 3 to 2\n",
      "move dice from 1 to 3\n",
      "move dice from 1 to 2\n",
      "move dice from 3 to 2\n",
      "move dice from 1 to 3\n",
      "move dice from 2 to 1\n",
      "move dice from 2 to 3\n",
      "move dice from 1 to 3\n",
      "move dice from 2 to 1\n",
      "move dice from 3 to 2\n",
      "move dice from 3 to 1\n",
      "move dice from 2 to 1\n",
      "move dice from 2 to 3\n",
      "move dice from 1 to 3\n",
      "move dice from 1 to 2\n",
      "move dice from 3 to 2\n",
      "move dice from 1 to 3\n",
      "move dice from 2 to 1\n",
      "move dice from 2 to 3\n",
      "move dice from 1 to 3\n"
     ]
    }
   ],
   "source": [
    "Movesmallerdice(5,\"1\",\"3\",\"2\")"
   ]
  },
  {
   "cell_type": "code",
   "execution_count": 11,
   "metadata": {},
   "outputs": [
    {
     "ename": "IndexError",
     "evalue": "list assignment index out of range",
     "output_type": "error",
     "traceback": [
      "\u001b[0;31m---------------------------------------------------------------------------\u001b[0m",
      "\u001b[0;31mIndexError\u001b[0m                                Traceback (most recent call last)",
      "\u001b[0;32m<ipython-input-11-95f4d33d6256>\u001b[0m in \u001b[0;36m<module>\u001b[0;34m()\u001b[0m\n\u001b[1;32m      1\u001b[0m \u001b[0mi\u001b[0m\u001b[0;34m=\u001b[0m\u001b[0;34m[\u001b[0m\u001b[0;36m1\u001b[0m\u001b[0;34m,\u001b[0m\u001b[0;36m2\u001b[0m\u001b[0;34m]\u001b[0m\u001b[0;34m\u001b[0m\u001b[0m\n\u001b[0;32m----> 2\u001b[0;31m \u001b[0mi\u001b[0m\u001b[0;34m[\u001b[0m\u001b[0;36m3\u001b[0m\u001b[0;34m]\u001b[0m\u001b[0;34m=\u001b[0m\u001b[0;36m4\u001b[0m\u001b[0;34m\u001b[0m\u001b[0m\n\u001b[0m\u001b[1;32m      3\u001b[0m \u001b[0mi\u001b[0m\u001b[0;34m\u001b[0m\u001b[0m\n",
      "\u001b[0;31mIndexError\u001b[0m: list assignment index out of range"
     ]
    }
   ],
   "source": []
  },
  {
   "cell_type": "code",
   "execution_count": null,
   "metadata": {},
   "outputs": [],
   "source": []
  }
 ],
 "metadata": {
  "kernelspec": {
   "display_name": "Python 3",
   "language": "python",
   "name": "python3"
  },
  "language_info": {
   "codemirror_mode": {
    "name": "ipython",
    "version": 3
   },
   "file_extension": ".py",
   "mimetype": "text/x-python",
   "name": "python",
   "nbconvert_exporter": "python",
   "pygments_lexer": "ipython3",
   "version": "3.6.3"
  }
 },
 "nbformat": 4,
 "nbformat_minor": 2
}
