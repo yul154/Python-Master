{
 "cells": [
  {
   "cell_type": "code",
   "execution_count": 8,
   "metadata": {},
   "outputs": [],
   "source": [
    "def bubblesort(lst):\n",
    "    for i in range(len(lst)-1,0,-1):\n",
    "        for j in range(i):\n",
    "            if lst[j]>lst[j+1]:\n",
    "                lst[j],lst[j+1]=lst[j+1],lst[j]\n",
    "    return lst\n"
   ]
  },
  {
   "cell_type": "code",
   "execution_count": 10,
   "metadata": {},
   "outputs": [],
   "source": [
    "def bubble_sort(lst):\n",
    "    for i in range(len(lst)-1):\n",
    "        for j in range(len(lst)-1-i):\n",
    "            if lst[j]>lst[j+1]:\n",
    "                lst[j],lst[j+1]=lst[j+1],lst[j]\n",
    "    return lst          "
   ]
  },
  {
   "cell_type": "code",
   "execution_count": 6,
   "metadata": {},
   "outputs": [],
   "source": [
    "def bubble_small(lst):\n",
    "    for i in range(len(lst),0,-1):\n",
    "        for j in range(1,i):\n",
    "            if lst[j]<lst[j-1]:\n",
    "                lst[j],lst[j-1]=lst[j-1],lst[j]"
   ]
  },
  {
   "cell_type": "code",
   "execution_count": 14,
   "metadata": {},
   "outputs": [],
   "source": [
    "def shortBubblesort(alist):\n",
    "    exchange=True\n",
    "    passnums=len(alist)-1\n",
    "    while passnums>0 and exchange:\n",
    "        exchange=False\n",
    "        for i in range(passnums):\n",
    "            if alist[i]>alist[i+1]:\n",
    "                exchange=True\n",
    "                alist[i],alist[i+1]=alist[i+1],alist[i]\n",
    "        passnums-=1\n",
    "    "
   ]
  },
  {
   "cell_type": "code",
   "execution_count": 15,
   "metadata": {},
   "outputs": [
    {
     "data": {
      "text/plain": [
       "[1, 2, 3, 4, 6, 10, 93]"
      ]
     },
     "execution_count": 15,
     "metadata": {},
     "output_type": "execute_result"
    }
   ],
   "source": [
    "lst=[1,4,6,2,10,3,93]\n",
    "shortBubblesort(lst)\n",
    "lst"
   ]
  }
 ],
 "metadata": {
  "kernelspec": {
   "display_name": "Python 3",
   "language": "python",
   "name": "python3"
  },
  "language_info": {
   "codemirror_mode": {
    "name": "ipython",
    "version": 3
   },
   "file_extension": ".py",
   "mimetype": "text/x-python",
   "name": "python",
   "nbconvert_exporter": "python",
   "pygments_lexer": "ipython3",
   "version": "3.6.3"
  }
 },
 "nbformat": 4,
 "nbformat_minor": 2
}
