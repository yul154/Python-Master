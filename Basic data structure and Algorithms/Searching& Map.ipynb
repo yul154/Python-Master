{
 "cells": [
  {
   "cell_type": "markdown",
   "metadata": {},
   "source": [
    "# Binary Searching"
   ]
  },
  {
   "cell_type": "code",
   "execution_count": 1,
   "metadata": {},
   "outputs": [],
   "source": [
    "def binarySearch(alist, item):\n",
    "    low=0\n",
    "    high=len(alist)\n",
    "    while low<high:\n",
    "        middle=(high+low)//2\n",
    "        if item>alist[middle]:\n",
    "            low=middle+1\n",
    "        elif item<alist[middle]:\n",
    "            high=middle-1\n",
    "        else:\n",
    "            return True\n",
    "    return False"
   ]
  },
  {
   "cell_type": "code",
   "execution_count": 16,
   "metadata": {},
   "outputs": [],
   "source": [
    "def binarySearch_recursion(alist,item):\n",
    "    if len(alist)==0:\n",
    "        return False\n",
    "    else:\n",
    "        mid=len(alist)//2\n",
    "        if item==alist[mid]:\n",
    "            return True\n",
    "        elif item<alist[mid]:\n",
    "            return binarySearch_recursion(alist[:mid],item)\n",
    "        else:\n",
    "            return binarySearch_recursion(alist[mid+1:],item)          "
   ]
  },
  {
   "cell_type": "markdown",
   "metadata": {},
   "source": [
    "# Binary Search in Python\n",
    "> This module provides support for maintaining a list in sorted order without having to sort the list after each insertion\n",
    "\n",
    "`import bisect`\n",
    "\n",
    "name|function\n",
    "----|---------\n",
    "`insort_right`|Insert item x in list a, and keep it sorted assuming a is sorted.If x is already in a, insert it to the right of the rightmost x.\n",
    "`insort_left`|Insert item x in list a, and keep it sorted assuming a is sorted.If x is already in a, insert it to the left of the leftmost x.\n",
    "`bisect_right(a, x, lo=0, hi=None)`|\"Return the index where to insert item x in list a, assuming a is sorted.\n",
    "`bisect_left(a, x, lo=0, hi=None)`|\"Return the index where to insert item x in list a, assuming a is sorted"
   ]
  },
  {
   "cell_type": "markdown",
   "metadata": {},
   "source": [
    "# Map ADT\n",
    "method|description\n",
    "------|-----------\n",
    "Map()| Create a new, empty map. It returns an empty map collection.\n",
    "put(key,val)| Add a new key-value pair to the map. If the key is already in the map then replace the old value with the new value.\n",
    "get(key)| Given a key, return the value stored in the map or None otherwise.\n",
    "del| Delete the key-value pair from the map using a statement of the form del map[key].\n",
    "len()| Return the number of key-value pairs stored in the map.\n",
    "in| Return True for a statement of the form key in map, if the given key is in the map, False otherwise."
   ]
  },
  {
   "cell_type": "code",
   "execution_count": 58,
   "metadata": {},
   "outputs": [],
   "source": [
    "class HashTable(object):\n",
    "    def __init__(self):\n",
    "        self.size=11\n",
    "        self.slots=[None]*self.size\n",
    "        self.data=[None]*self.size\n",
    "    def put(self,key,val):\n",
    "        hash_value=self.hashfunction(key,len(self.slots))\n",
    "        if self.slots[hash_value]==None:\n",
    "            self.slots[hash_value]=key\n",
    "            self.data[hash_value]=val\n",
    "        else:\n",
    "            if self.slots[hash_value]==key:\n",
    "                self.data[hash_value]=val\n",
    "            else:\n",
    "                rehash_value=self.rehash(key,len(self.slots))\n",
    "                while self.slots[rehash_value]!=None and self.slots[rehash_value]!=key:\n",
    "                    rehash_value=self.rehash(rehash_value,len(self.slots))\n",
    "                self.slots[rehash_value]=key\n",
    "                self.data[rehash_value]=val\n",
    "    def hashfunction(self,key,size):\n",
    "        return key%size\n",
    "    def rehash(self,key,size):\n",
    "        return (key+1)%size\n",
    "    \n",
    "    def get(self,key):\n",
    "        hash_value=self.hashfunction(key,len(self.slots))\n",
    "        while self.slots[hash_value]!=key and self.slots[hash_value]!=None:\n",
    "            hash_value=self.rehash(hash_value,len(self.slots))\n",
    "        if self.slots[hash_value]==None:\n",
    "            return None\n",
    "        else:\n",
    "            return self.data[hash_value]\n",
    "            \n",
    "    def __getitem__(self,key):#Called to implement evaluation of self[key].\n",
    "        return self.get(key)\n",
    "    def __setitem__(self,key,data):#Called to implement assignment to self[key]\n",
    "        self.put(key,data)"
   ]
  },
  {
   "cell_type": "code",
   "execution_count": 59,
   "metadata": {},
   "outputs": [
    {
     "data": {
      "text/plain": [
       "['bird',\n",
       " 'goat',\n",
       " 'pig',\n",
       " 'chicken',\n",
       " 'dog',\n",
       " 'lion',\n",
       " 'tiger',\n",
       " None,\n",
       " None,\n",
       " 'cow',\n",
       " 'cat']"
      ]
     },
     "execution_count": 59,
     "metadata": {},
     "output_type": "execute_result"
    }
   ],
   "source": [
    "H=HashTable()\n",
    "H[54]=\"cat\"\n",
    "H[26]=\"dog\"\n",
    "H[93]=\"lion\"\n",
    "H[17]=\"tiger\"\n",
    "H[77]=\"bird\"\n",
    "H[31]=\"cow\"\n",
    "H[44]=\"goat\"\n",
    "H[55]=\"pig\"\n",
    "H[20]=\"chicken\"\n",
    "H.data"
   ]
  },
  {
   "cell_type": "code",
   "execution_count": 61,
   "metadata": {},
   "outputs": [
    {
     "name": "stdout",
     "output_type": "stream",
     "text": [
      "None\n"
     ]
    }
   ],
   "source": [
    "class HashMap(object):\n",
    "    def __init__(self):\n",
    "        self.size=11\n",
    "        self.map=[None]*self.size\n",
    "    def _get_hash(self,key):\n",
    "        hash_=0\n",
    "        for char in str(key):\n",
    "            hash_+=ord(char)\n",
    "        return hash_%self.size\n",
    "    def add(self,key,value):\n",
    "        key_hash=self._get_hash(key)\n",
    "        key_value=[key,value]\n",
    "        if self.map[key_hash] is None:\n",
    "            self.map[key_hash]=key_value\n",
    "            return True\n",
    "        else:\n",
    "            for pair in self.map[key_hash]:\n",
    "                if pair[0]==key:# update\n",
    "                    pair[1]=value\n",
    "                    return True\n",
    "            self.map[key_hash].append(key_value)# new key\n",
    "            return True\n",
    "    def get(self,key):\n",
    "        key_hash=self._get_hash(key)\n",
    "        if self.map[key_hash] is not None:\n",
    "            for pair in self.map[key_hash]:\n",
    "                if pair[0]==key:\n",
    "                    return pair[1]\n",
    "        return False\n",
    "    \n",
    "    def delete(self,key):\n",
    "        key_hash=self._get_hash(key)\n",
    "        if self.map[key_hash] is None:\n",
    "            return False\n",
    "        for i in range(0,len(self.map[key_hash])):\n",
    "            if self.map[key_hash][i][0]==key:\n",
    "                self.map[key_hash].pop(i)\n",
    "                return True\n",
    "    def print(self):\n",
    "        for item in self.map:\n",
    "            if item:\n",
    "                print(str(item))"
   ]
  },
  {
   "cell_type": "code",
   "execution_count": null,
   "metadata": {},
   "outputs": [],
   "source": [
    "h = HashMap()\n",
    "h.add('Bob', '567-8888')\n",
    "h.add('Ming', '293-6753')\n",
    "h.add('Ming', '333-8233')\n",
    "h.add('Ankit', '293-8625')\n",
    "h.add('Aditya', '852-6551')\n",
    "h.add('Alicia', '632-4123')\n",
    "h.add('Mike', '567-2188')\n",
    "h.add('Aditya', '777-8888')\n",
    "h.print()\t\t\n",
    "h.delete('Bob')\n",
    "h.print()\n",
    "h.get('Ming')"
   ]
  }
 ],
 "metadata": {
  "kernelspec": {
   "display_name": "Python 3",
   "language": "python",
   "name": "python3"
  },
  "language_info": {
   "codemirror_mode": {
    "name": "ipython",
    "version": 3
   },
   "file_extension": ".py",
   "mimetype": "text/x-python",
   "name": "python",
   "nbconvert_exporter": "python",
   "pygments_lexer": "ipython3",
   "version": "3.6.3"
  }
 },
 "nbformat": 4,
 "nbformat_minor": 2
}
