{
 "cells": [
  {
   "cell_type": "code",
   "execution_count": 28,
   "metadata": {},
   "outputs": [],
   "source": [
    "def sorting(left,right):\n",
    "    l,r=0,0\n",
    "    lst=[]\n",
    "    while l<len(left) and r<len(right):\n",
    "        if left[l]<right[r]:\n",
    "            lst.append(left[l])\n",
    "            l+=1\n",
    "        else:\n",
    "            lst.append(right[r])\n",
    "            r+=1\n",
    "    lst+=right[r:]\n",
    "    lst+=left[l:]\n",
    "    return lst\n",
    "def merge(lst):\n",
    "    if len(lst)<=1:\n",
    "        return lst\n",
    "    else:\n",
    "        mid=len(lst)//2\n",
    "        left=merge(lst[:mid])\n",
    "        right=merge(lst[mid:])\n",
    "    return sorting(left,right)  "
   ]
  },
  {
   "cell_type": "code",
   "execution_count": 2,
   "metadata": {},
   "outputs": [
    {
     "data": {
      "text/plain": [
       "[1, 3, 3, 6, 50, 51]"
      ]
     },
     "execution_count": 2,
     "metadata": {},
     "output_type": "execute_result"
    }
   ],
   "source": [
    "lst=[3,6,1,50,3,51]\n",
    "merge_sort(lst)"
   ]
  },
  {
   "cell_type": "code",
   "execution_count": 1,
   "metadata": {},
   "outputs": [],
   "source": [
    "def merge_sort(alist):\n",
    "    if len(alist)>1:\n",
    "        middle=len(alist)//2\n",
    "        left = alist[:middle]\n",
    "        right = alist[middle:]\n",
    "\n",
    "        merge_sort(left)\n",
    "        merge_sort(right)\n",
    "        #left=merge_sort(alist[:middle])\n",
    "        #right=merge_sort(alist[middle:])\n",
    "        l,r,n=0,0,0\n",
    "        while l<len(left) and r<len(right):\n",
    "            if left[l]<right[r]:\n",
    "                alist[n]=left[l]\n",
    "                l+=1\n",
    "            else:\n",
    "                alist[n]=right[r]\n",
    "                r+=1\n",
    "            n+=1\n",
    "        while l<len(left):\n",
    "            alist[n]=left[l]\n",
    "            n+=1\n",
    "            l+=1\n",
    "    #     alist[n:n+len(left)-l]=left[l:]\n",
    "    #     alist[n+len(left)-l:n+len(left)+len(right)-r-l]=right[r:]\n",
    "        while r<len(right):\n",
    "            alist[n]=right[r]\n",
    "            r+=1\n",
    "            n+=1\n",
    "    return alist"
   ]
  },
  {
   "cell_type": "code",
   "execution_count": null,
   "metadata": {},
   "outputs": [],
   "source": []
  }
 ],
 "metadata": {
  "kernelspec": {
   "display_name": "Python 3",
   "language": "python",
   "name": "python3"
  },
  "language_info": {
   "codemirror_mode": {
    "name": "ipython",
    "version": 3
   },
   "file_extension": ".py",
   "mimetype": "text/x-python",
   "name": "python",
   "nbconvert_exporter": "python",
   "pygments_lexer": "ipython3",
   "version": "3.6.3"
  }
 },
 "nbformat": 4,
 "nbformat_minor": 2
}
