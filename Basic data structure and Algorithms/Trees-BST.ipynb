{
 "cells": [
  {
   "cell_type": "markdown",
   "metadata": {},
   "source": [
    "# A list of lists as Tree\n"
   ]
  },
  {
   "cell_type": "code",
   "execution_count": 28,
   "metadata": {},
   "outputs": [],
   "source": [
    "def BinaryTree(r):\n",
    "    return [r,[],[]]\n",
    "def insert_left(root,newBranch):\n",
    "    t=root.pop(1)\n",
    "    if len(t)>1:\n",
    "        root.insert(1,[newBranch,t,[]])\n",
    "    else:\n",
    "        root.insert(1,[newBranch,[],[]])\n",
    "    return root\n",
    "def insert_right(root,newBranch):\n",
    "    t=root.pop(2)\n",
    "    if len(t)>1:\n",
    "        root.insert(2,[newBranch,[],t])\n",
    "    else:\n",
    "        root.insert(2,[newBranch,[],[]])\n",
    "    return root\n",
    "def getRootVal(root):\n",
    "    return root[0]\n",
    "\n",
    "def setRootVal(root,newVal):\n",
    "    root[0] = newVal\n",
    "\n",
    "def getLeftChild(root):\n",
    "    return root[1]\n",
    "\n",
    "def getRightChild(root):\n",
    "    return root[2]\n",
    "def buildTree():\n",
    "    r=BinaryTree('a')\n",
    "    insert_left(r,'b')\n",
    "    insert_right(r,'c')\n",
    "    insert_right(getLeftChild(r),'d')\n",
    "    insert_right(getRightChild(r),'f')\n",
    "    insert_left(getRightChild(r),'e')\n",
    "    return r"
   ]
  },
  {
   "cell_type": "code",
   "execution_count": 29,
   "metadata": {},
   "outputs": [
    {
     "data": {
      "text/plain": [
       "['a', ['b', [], ['d', [], []]], ['c', ['e', [], []], ['f', [], []]]]"
      ]
     },
     "execution_count": 29,
     "metadata": {},
     "output_type": "execute_result"
    }
   ],
   "source": [
    "ttree = buildTree()\n",
    "ttree"
   ]
  },
  {
   "cell_type": "markdown",
   "metadata": {},
   "source": [
    "# Tree represented by node and references"
   ]
  },
  {
   "cell_type": "code",
   "execution_count": 57,
   "metadata": {},
   "outputs": [],
   "source": [
    "class BinaryTree(object):\n",
    "    def __init__(self,root):\n",
    "        self.key=root\n",
    "        self.leftChild=None\n",
    "        self.rightChild=None\n",
    "    def insert_left(self,node):\n",
    "        if self.leftChild==None:\n",
    "            self.leftChild=BinaryTree(node)\n",
    "        else:\n",
    "            t=BinaryTree(node)\n",
    "            t.leftChild=self.leftChild\n",
    "            self.leftChild=t\n",
    "    def insert_right(self,node):\n",
    "        if self.rightChild==None:\n",
    "            self.rightChild=BinaryTree(node)\n",
    "        else:\n",
    "            t=BinaryTree(node)\n",
    "            t.rightChild=self.rightChild\n",
    "            self.rightChild=t\n",
    "    \n",
    "            \n",
    "    def getRightChild(self):\n",
    "        return self.rightChild\n",
    "\n",
    "    def getLeftChild(self):\n",
    "        return self.leftChild\n",
    "\n",
    "    def setRootVal(self,obj):\n",
    "        self.key = obj\n",
    "\n",
    "    def getRootVal(self):\n",
    "        return self.key"
   ]
  },
  {
   "cell_type": "markdown",
   "metadata": {},
   "source": [
    "# Tree traversals\n",
    "1. preorder: recursively visit root node, left child subtree and right subtree\n",
    "2. inorder:: recursively visit left subtree, root node and right subtree\n",
    "3. postorder: recursively visit left subtree, right subtree and root node"
   ]
  },
  {
   "cell_type": "markdown",
   "metadata": {},
   "source": [
    "# BST\n",
    "1. `map()`: create a new,empty map\n",
    "2. `put(key,val)`:  Add a new key-value pair to the map. If the key is already in the map then replace the old value with the new value.\n",
    "3. `get(key)`:given a key, return the valur stored in the map or None otherwise\n",
    "4. `del`: delelte the key-value pair from the map using a statement of the form `del map[key]`\n",
    "5. `len()`: Return the nymer of key-value pairs stored in the map\n",
    "6. `in` :Return True for a statement of the form key in map, if the given key is in the map."
   ]
  },
  {
   "cell_type": "code",
   "execution_count": null,
   "metadata": {},
   "outputs": [],
   "source": [
    "class Node(object):\n",
    "    def __init__(self,val):\n",
    "        self.val=val\n",
    "        self.left=None\n",
    "        self.right=None"
   ]
  },
  {
   "cell_type": "code",
   "execution_count": null,
   "metadata": {},
   "outputs": [],
   "source": [
    "class BST(object):\n",
    "    def __init__(self):\n",
    "        self.root=None\n",
    "    def insert(self,data):\n",
    "        if not root:\n",
    "            self.root=Node(data)\n",
    "        else:\n",
    "            self._insert(data,self.root)\n",
    "    def _insert(self,data,node):\n",
    "        if data<node.val:\n",
    "            if node.left:\n",
    "                self._insert(data,node.left)\n",
    "            else:\n",
    "                node.left=Node(data)\n",
    "        else:\n",
    "            if node.right:\n",
    "                self._insert(data,node.right)\n",
    "            else:\n",
    "                node.right=Node(data)\n",
    "                \n",
    "                \n",
    "    def getMinvalue(self):\n",
    "        if self.root:\n",
    "            return self.getMin(self.root)\n",
    "    def getMin(self,node):\n",
    "        if node.left:\n",
    "            return self.getMin(node.left)\n",
    "        return node.data\n",
    "    \n",
    "    def getMaxvalue(self):\n",
    "        if self.root:\n",
    "            return self.getMax(self.root)\n",
    "    def getMax(self,node):\n",
    "        if node.right:\n",
    "            return self.getMax(node.right)\n",
    "        return node.data\n",
    "    def find(self,root):\n",
    "        return self.findNode(self.root)\n",
    "    def findNode(self,node,val):\n",
    "        if not node:\n",
    "            return False\n",
    "        elif node.val==val:\n",
    "            return True\n",
    "        else:\n",
    "            if node.val<val:\n",
    "                return findNode(node.right,val)\n",
    "            else:\n",
    "                return findNode(node.left,val)\n",
    "    \n",
    "    def traverse(self):\n",
    "        if self.root:\n",
    "            self.inorder(self.root)\n",
    "    def inorder(self,node):\n",
    "        res=[]\n",
    "        if node:\n",
    "            res=self.inorder(node.left)\n",
    "            res.append(node.val)\n",
    "            res=res+self.inorder(node.right)\n",
    "        return res\n",
    "#     def inorderTraversal(self, root):\n",
    "#         return (self.inorderTraversal(root.left) + [root.val] + self.inorderTraversal(root.right)) if root else []\n",
    "    \n",
    "    def remove(self,data):\n",
    "        if self.root:\n",
    "            self.root=self._remove(data,self.root)\n",
    "    \n",
    "    def _remove(self,data,node):\n",
    "        if not node:\n",
    "            return node\n",
    "        if data<node.val:\n",
    "            node.left=self._remove(data,node.left)\n",
    "        elif:\n",
    "            node.right=self._remove(data,node.right)\n",
    "        else:\n",
    "            if not node.left and not node.right:# left node\n",
    "                del node\n",
    "                return None\n",
    "            if not node.left:# single right child\n",
    "                temp=node.right\n",
    "                del node\n",
    "                return temp\n",
    "            elif not self.right:#single left child\n",
    "                temp=node.left\n",
    "                del node\n",
    "                return temp\n",
    "        \n",
    "            temp=self.getPredessor(node.left)\n",
    "            node.val=temp.val\n",
    "            node.left=self._remove(temp.val,node.left)\n",
    "        \n",
    "    def getPredessor（self,node）:\n",
    "        if node.righChild:\n",
    "            return self.getPredessor(node.right)\n",
    "        \n",
    "        return node           "
   ]
  },
  {
   "cell_type": "markdown",
   "metadata": {},
   "source": [
    "# Search value in BST"
   ]
  },
  {
   "cell_type": "code",
   "execution_count": 2,
   "metadata": {},
   "outputs": [],
   "source": [
    "def find(root,val):\n",
    "    if not root:\n",
    "        return False\n",
    "    elif root.val==val:\n",
    "        return True\n",
    "    else:\n",
    "        if val>root.val:\n",
    "            return find(root.right,val)\n",
    "        else:\n",
    "            return find(root.left,val)\n",
    "        "
   ]
  },
  {
   "cell_type": "markdown",
   "metadata": {},
   "source": [
    "# Inorder traversal"
   ]
  },
  {
   "cell_type": "code",
   "execution_count": 4,
   "metadata": {},
   "outputs": [],
   "source": [
    "def inorderTraversal(root):\n",
    "    res=[]\n",
    "    if not root:\n",
    "        return None\n",
    "    else:\n",
    "        res=inorderTraversal(root.left)\n",
    "        res.append(root)\n",
    "        res+=inorderTraversal(root.right)\n",
    "    return res\n",
    "\n",
    "def inorderTraversal(root):\n",
    "    if root:\n",
    "        return (inorderTraversal(root.left)+[root]+inorderTraversal(root.right) if root else [])"
   ]
  },
  {
   "cell_type": "code",
   "execution_count": null,
   "metadata": {},
   "outputs": [],
   "source": []
  }
 ],
 "metadata": {
  "kernelspec": {
   "display_name": "Python 3",
   "language": "python",
   "name": "python3"
  },
  "language_info": {
   "codemirror_mode": {
    "name": "ipython",
    "version": 3
   },
   "file_extension": ".py",
   "mimetype": "text/x-python",
   "name": "python",
   "nbconvert_exporter": "python",
   "pygments_lexer": "ipython3",
   "version": "3.6.3"
  }
 },
 "nbformat": 4,
 "nbformat_minor": 2
}
