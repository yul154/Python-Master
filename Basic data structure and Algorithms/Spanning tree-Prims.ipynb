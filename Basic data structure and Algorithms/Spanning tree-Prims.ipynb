{
 "cells": [
  {
   "cell_type": "code",
   "execution_count": 1,
   "metadata": {},
   "outputs": [
    {
     "ename": "SyntaxError",
     "evalue": "invalid syntax (<ipython-input-1-b64dff4c29ba>, line 35)",
     "output_type": "error",
     "traceback": [
      "\u001b[0;36m  File \u001b[0;32m\"<ipython-input-1-b64dff4c29ba>\"\u001b[0;36m, line \u001b[0;32m35\u001b[0m\n\u001b[0;31m    vertex=minEdge.\u001b[0m\n\u001b[0m                   ^\u001b[0m\n\u001b[0;31mSyntaxError\u001b[0m\u001b[0;31m:\u001b[0m invalid syntax\n"
     ]
    }
   ],
   "source": [
    "import heapq\n",
    "class Vetex(object):\n",
    "    def __init__(self,name):\n",
    "        self.name=name\n",
    "        self.visited=False\n",
    "        self.predecessor=None\n",
    "        self.adjacent=[]\n",
    "    def __str__(self):\n",
    "        return self.name\n",
    "class Edge(object):\n",
    "    def __init__(self,weight,start,end):\n",
    "        self.weight=weight\n",
    "        self.start=start\n",
    "        self.end=end\n",
    "    def __cmp__(self,other):\n",
    "        return self.cmp(self.weight,other,weight)\n",
    "    def __lt__(self,other):\n",
    "        selfPriority=self.weight\n",
    "        otherPriority=other.weight\n",
    "        return selfPriority<otherPriority\n",
    "class Prims(object):\n",
    "    def __init__(self,unvisitedlist):\n",
    "        self.unvisitedlist=unvisitedlist\n",
    "        self.spanningTree=[]\n",
    "        self.edgeHeap=[]\n",
    "        self.fullcost=0\n",
    "    def calSpanningTree(self,vertex):\n",
    "        self.unvisitedlist.remove(vertex)\n",
    "        while self.unvisitedlist:\n",
    "            for edge in vertex.adjacent:\n",
    "                if edge.target in self.invisitedlist:\n",
    "                    heapq.heappush(selfedgeHeap,edge)\n",
    "                minEdge=heapq.heappop(self.edgeHeap)\n",
    "                self.spannningTree.append(minEdge)\n",
    "            vertex=minEdge.target\n",
    "            self.unvisitedlist.remove(vertex)"
   ]
  },
  {
   "cell_type": "code",
   "execution_count": 4,
   "metadata": {},
   "outputs": [
    {
     "ename": "NameError",
     "evalue": "name 'b' is not defined",
     "output_type": "error",
     "traceback": [
      "\u001b[0;31m---------------------------------------------------------------------------\u001b[0m",
      "\u001b[0;31mNameError\u001b[0m                                 Traceback (most recent call last)",
      "\u001b[0;32m<ipython-input-4-3b5d5c371295>\u001b[0m in \u001b[0;36m<module>\u001b[0;34m()\u001b[0m\n\u001b[0;32m----> 1\u001b[0;31m \u001b[0mb\u001b[0m\u001b[0;34m\u001b[0m\u001b[0m\n\u001b[0m",
      "\u001b[0;31mNameError\u001b[0m: name 'b' is not defined"
     ]
    }
   ],
   "source": [
    "b"
   ]
  },
  {
   "cell_type": "code",
   "execution_count": null,
   "metadata": {},
   "outputs": [],
   "source": []
  }
 ],
 "metadata": {
  "kernelspec": {
   "display_name": "Python 3",
   "language": "python",
   "name": "python3"
  },
  "language_info": {
   "codemirror_mode": {
    "name": "ipython",
    "version": 3
   },
   "file_extension": ".py",
   "mimetype": "text/x-python",
   "name": "python",
   "nbconvert_exporter": "python",
   "pygments_lexer": "ipython3",
   "version": "3.6.3"
  }
 },
 "nbformat": 4,
 "nbformat_minor": 2
}
