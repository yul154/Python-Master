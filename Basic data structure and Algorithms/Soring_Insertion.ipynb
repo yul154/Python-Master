{
 "cells": [
  {
   "cell_type": "code",
   "execution_count": 3,
   "metadata": {},
   "outputs": [],
   "source": [
    "def insert_sort(lst):\n",
    "    for i in range(len(lst)):\n",
    "        index=i\n",
    "        while index>0 and lst[index-1]>lst[index]:\n",
    "            lst[index],lst[index-1]=lst[index-1],lst[index]# exchange\n",
    "            index-=1\n",
    "    return lst"
   ]
  },
  {
   "cell_type": "code",
   "execution_count": 4,
   "metadata": {},
   "outputs": [],
   "source": [
    "def insert(alist):\n",
    "    for i in range(len(alist)):\n",
    "        for j in range(i):\n",
    "            if alist[i]<alist[j]:\n",
    "                alist[i],alist[j]=alist[j],alist[i]# exchange\n",
    "    return alist"
   ]
  },
  {
   "cell_type": "code",
   "execution_count": 3,
   "metadata": {},
   "outputs": [],
   "source": [
    "def insertSort(alist):\n",
    "    for index in range(1,len(alist)):\n",
    "        current=alist[index]\n",
    "        #index=i\n",
    "        while index>0 and alist[index-1]>current:\n",
    "            alist[index]=alist[index-1]\n",
    "            index-=1\n",
    "        alist[index]=current\n",
    "    return alist"
   ]
  },
  {
   "cell_type": "code",
   "execution_count": 4,
   "metadata": {},
   "outputs": [
    {
     "data": {
      "text/plain": [
       "[2, 3, 5, 6, 7, 10]"
      ]
     },
     "execution_count": 4,
     "metadata": {},
     "output_type": "execute_result"
    }
   ],
   "source": [
    "lst=[6,5,3,2,7,10]\n",
    "insertSort(lst)"
   ]
  },
  {
   "cell_type": "code",
   "execution_count": null,
   "metadata": {},
   "outputs": [],
   "source": []
  }
 ],
 "metadata": {
  "kernelspec": {
   "display_name": "Python 3",
   "language": "python",
   "name": "python3"
  },
  "language_info": {
   "codemirror_mode": {
    "name": "ipython",
    "version": 3
   },
   "file_extension": ".py",
   "mimetype": "text/x-python",
   "name": "python",
   "nbconvert_exporter": "python",
   "pygments_lexer": "ipython3",
   "version": "3.6.3"
  }
 },
 "nbformat": 4,
 "nbformat_minor": 2
}
