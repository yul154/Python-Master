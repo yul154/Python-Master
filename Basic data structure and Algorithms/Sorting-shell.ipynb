{
 "cells": [
  {
   "cell_type": "code",
   "execution_count": 38,
   "metadata": {},
   "outputs": [],
   "source": [
    "def shellsort(alist):\n",
    "    gap=len(alist)//2\n",
    "    while gap>0:\n",
    "        for i in range(gap,len(alist),gap):\n",
    "            index=i\n",
    "            current=alist[i]\n",
    "            while index>=gap and alist[index-gap]>current:\n",
    "                alist[index]=alist[index-gap]\n",
    "                index-=gap\n",
    "            alist[index]=current\n",
    "        gap//=2\n",
    "    return alist"
   ]
  },
  {
   "cell_type": "code",
   "execution_count": 41,
   "metadata": {},
   "outputs": [],
   "source": [
    "def shellSort(alist):\n",
    "    gap=len(alist)//2\n",
    "    while gap>0:\n",
    "        for i in range(gap):\n",
    "            gap_insert_sort(alist,i,gap)\n",
    "        gap//=2\n",
    "def gap_insert_sort(alist,start,gap):\n",
    "    for i in range(start,len(alist),gap):\n",
    "        index=i\n",
    "        current=alist[i]\n",
    "        while index>0 and alist[i-gap]>current:\n",
    "            alist[index]=alist[index-gap]\n",
    "            index-=gap\n",
    "        alist[index]=current\n",
    "        \n",
    "        "
   ]
  },
  {
   "cell_type": "code",
   "execution_count": 42,
   "metadata": {},
   "outputs": [
    {
     "name": "stdout",
     "output_type": "stream",
     "text": [
      "[17, 26, 20, 31, 44, 55, 54, 77, 93]\n"
     ]
    }
   ],
   "source": [
    "alist = [54,26,93,17,77,31,44,55,20]\n",
    "shellSort(alist)\n",
    "print(alist)\n",
    "\n"
   ]
  },
  {
   "cell_type": "code",
   "execution_count": null,
   "metadata": {},
   "outputs": [],
   "source": []
  }
 ],
 "metadata": {
  "kernelspec": {
   "display_name": "Python 3",
   "language": "python",
   "name": "python3"
  },
  "language_info": {
   "codemirror_mode": {
    "name": "ipython",
    "version": 3
   },
   "file_extension": ".py",
   "mimetype": "text/x-python",
   "name": "python",
   "nbconvert_exporter": "python",
   "pygments_lexer": "ipython3",
   "version": "3.6.3"
  }
 },
 "nbformat": 4,
 "nbformat_minor": 2
}
