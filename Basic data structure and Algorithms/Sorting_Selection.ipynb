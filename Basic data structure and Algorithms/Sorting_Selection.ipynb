{
 "cells": [
  {
   "cell_type": "code",
   "execution_count": 3,
   "metadata": {},
   "outputs": [],
   "source": [
    "def selection_sorting(lst):\n",
    "    for i in range(len(lst)):\n",
    "        index=i\n",
    "        for j in range(i+1,len(lst)):\n",
    "                   if lst[j]<lst[index]:\n",
    "                       index=j\n",
    "        lst[i],lst[index]=lst[index],lst[i]\n",
    "    return lst                  "
   ]
  },
  {
   "cell_type": "code",
   "execution_count": 9,
   "metadata": {},
   "outputs": [],
   "source": [
    "def selection(alist):\n",
    "    for i in range(len(alist)-1,0,-1):\n",
    "        index=i\n",
    "        for j in range(i):\n",
    "            if alist[j]>alist[index]:\n",
    "                index=j\n",
    "        alist[i],alist[index]=alist[index],alist[i]\n",
    "    return alist\n"
   ]
  },
  {
   "cell_type": "code",
   "execution_count": 10,
   "metadata": {},
   "outputs": [
    {
     "data": {
      "text/plain": [
       "[0, 1, 5, 6, 7, 10, 23]"
      ]
     },
     "execution_count": 10,
     "metadata": {},
     "output_type": "execute_result"
    }
   ],
   "source": [
    "lst=[1,5,7,23,6,0,10]\n",
    "selection(lst)"
   ]
  },
  {
   "cell_type": "code",
   "execution_count": null,
   "metadata": {},
   "outputs": [],
   "source": []
  }
 ],
 "metadata": {
  "kernelspec": {
   "display_name": "Python 3",
   "language": "python",
   "name": "python3"
  },
  "language_info": {
   "codemirror_mode": {
    "name": "ipython",
    "version": 3
   },
   "file_extension": ".py",
   "mimetype": "text/x-python",
   "name": "python",
   "nbconvert_exporter": "python",
   "pygments_lexer": "ipython3",
   "version": "3.6.3"
  }
 },
 "nbformat": 4,
 "nbformat_minor": 2
}
