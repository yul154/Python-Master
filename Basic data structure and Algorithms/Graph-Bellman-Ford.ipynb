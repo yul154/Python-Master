{
 "cells": [
  {
   "cell_type": "code",
   "execution_count": 1,
   "metadata": {},
   "outputs": [],
   "source": [
    "# Udemy\n",
    "import sys;\n",
    "\n",
    "class Node(object):\n",
    "    def __init__(self,name):\n",
    "        self.name=name\n",
    "        self.visited=False\n",
    "        self.precedessor=None\n",
    "        self.ajacent=[]\n",
    "        self.min_distance=sys.maxsize\n",
    "class Edge(object):\n",
    "    def __init__(self,weight,start,end):\n",
    "        self.weight=weight\n",
    "        self.start=start\n",
    "        self.end=end\n",
    "class Bellman_ford(object):\n",
    "    Cycle=False\n",
    "    def shortest_path(self,vertexlist,edgelist,start):\n",
    "        start.min_distance=0\n",
    "        for i in range(len(vertexlist)-1):\n",
    "            for e in edgelist:\n",
    "                u=edge.start\n",
    "                v=edge.end\n",
    "                temp=u.min_distance+e.weight\n",
    "                if temp <v.min_distance:\n",
    "                    v.min_distance=temp\n",
    "                    v.precedessor=u\n",
    "        for e in edgelist:\n",
    "            if self.Cycle(e):\n",
    "                Bellman_ford.Cycle=True\n",
    "                return\n",
    "    def Cycle(self,edge):\n",
    "        if edge.start+edge.weight< edge.end.min_distance:\n",
    "            return True\n",
    "        else:\n",
    "            return False\n",
    "    def Path(self,end):\n",
    "        if not Bellman_ford.Cycle:\n",
    "            print('Path:',end.min_distance)\n",
    "            node=end\n",
    "            while node is not None:\n",
    "                node=node.predecessor\n",
    "        else:\n",
    "            print('detected')\n",
    "                \n",
    "                \n",
    "        "
   ]
  },
  {
   "cell_type": "code",
   "execution_count": null,
   "metadata": {},
   "outputs": [],
   "source": []
  },
  {
   "cell_type": "code",
   "execution_count": null,
   "metadata": {},
   "outputs": [],
   "source": [
    "vertexlist=[]\n",
    "edgelist=[]"
   ]
  }
 ],
 "metadata": {
  "kernelspec": {
   "display_name": "Python 3",
   "language": "python",
   "name": "python3"
  },
  "language_info": {
   "codemirror_mode": {
    "name": "ipython",
    "version": 3
   },
   "file_extension": ".py",
   "mimetype": "text/x-python",
   "name": "python",
   "nbconvert_exporter": "python",
   "pygments_lexer": "ipython3",
   "version": "3.6.3"
  }
 },
 "nbformat": 4,
 "nbformat_minor": 2
}
