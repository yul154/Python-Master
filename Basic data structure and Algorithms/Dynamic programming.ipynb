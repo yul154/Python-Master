{
 "cells": [
  {
   "cell_type": "markdown",
   "metadata": {},
   "source": [
    "# Coin change"
   ]
  },
  {
   "cell_type": "code",
   "execution_count": 3,
   "metadata": {},
   "outputs": [],
   "source": [
    "def dpcoins(lst,target):\n",
    "    mincoins=(target+1)*[0]\n",
    "    for cents in range(1,target+1):\n",
    "        loc=cents\n",
    "        for j in [c for c in lst if c<=loc]:\n",
    "                loc=min(mincoins[cents-j]+1,loc)\n",
    "        mincoins[cents]=loc\n",
    "        print(mincoins)\n",
    "    return mincoins[target]"
   ]
  },
  {
   "cell_type": "code",
   "execution_count": 4,
   "metadata": {},
   "outputs": [
    {
     "name": "stdout",
     "output_type": "stream",
     "text": [
      "[0, 1, 0, 0]\n",
      "[0, 1, 1, 0]\n",
      "[0, 1, 1, 2]\n"
     ]
    },
    {
     "data": {
      "text/plain": [
       "2"
      ]
     },
     "execution_count": 4,
     "metadata": {},
     "output_type": "execute_result"
    }
   ],
   "source": [
    "dpcoins([2],3)"
   ]
  },
  {
   "cell_type": "markdown",
   "metadata": {},
   "source": [
    "# Max sum of subarry\n",
    "> find the sum of contiguous subarray within a one-dimensional array of numbers which has the largest sum!"
   ]
  },
  {
   "cell_type": "code",
   "execution_count": 19,
   "metadata": {},
   "outputs": [],
   "source": [
    "def dp_sum_subarray(array):\n",
    "    max_current=array[0]\n",
    "    max_global=array[0]\n",
    "    lst=[0]*len(array)\n",
    "    lst[0]=array[0]\n",
    "    for i in range(1,len(array)):\n",
    "        max_current=max(array[i],max_current+array[i])\n",
    "        lst[i]=max_current\n",
    "        print(lst)\n",
    "        max_global=max(max_global,max_current)\n",
    "    return max_global"
   ]
  },
  {
   "cell_type": "code",
   "execution_count": 20,
   "metadata": {},
   "outputs": [
    {
     "data": {
      "text/plain": [
       "-1"
      ]
     },
     "execution_count": 20,
     "metadata": {},
     "output_type": "execute_result"
    }
   ],
   "source": [
    "dp_sum_subarray([-1])"
   ]
  },
  {
   "cell_type": "markdown",
   "metadata": {},
   "source": [
    "# Minimum Path Sum(two dimension)\n",
    "> Given a m x n grid filled with non-negative numbers, find a path from top left to bottom right which minimizes the sum of all numbers along its path."
   ]
  },
  {
   "cell_type": "code",
   "execution_count": 15,
   "metadata": {},
   "outputs": [],
   "source": [
    "from sys import maxsize\n",
    "def minPathSum(grid):\n",
    "    for row in range(1,len(grid[0])):\n",
    "        grid[row][0]+=grid[row-1][0]\n",
    "    for col in range(1,len(grid)):\n",
    "        grid[0][col]+=grid[0][col-1]\n",
    "    \n",
    "    for i in range(1,len(grid[0])):\n",
    "        for j in range(1,len(grid)):\n",
    "            grid[i][j]+=min(grid[i-1][j],grid[i][j-1])\n",
    "\n",
    "    return grid[-1][-1]\n",
    "    \n",
    "            "
   ]
  },
  {
   "cell_type": "code",
   "execution_count": 16,
   "metadata": {},
   "outputs": [
    {
     "data": {
      "text/plain": [
       "7"
      ]
     },
     "execution_count": 16,
     "metadata": {},
     "output_type": "execute_result"
    }
   ],
   "source": [
    "grid=[\n",
    "  [1,3,1],\n",
    "  [1,5,1],\n",
    "  [4,2,1]\n",
    "]\n",
    "minPathSum(grid)"
   ]
  },
  {
   "cell_type": "markdown",
   "metadata": {},
   "source": [
    "# Word Break\n",
    "> Given a non-empty string s and a dictionary wordDict containing a list of non-empty words, determine if s can be segmented into a space-separated sequence of one or more dictionary words.\n",
    "\n"
   ]
  },
  {
   "cell_type": "code",
   "execution_count": 35,
   "metadata": {},
   "outputs": [],
   "source": [
    "def wordBreak(s, wordDict):\n",
    "    track=[False]*(len(s)+1)\n",
    "    track[0]=True\n",
    "    for i in range(len(s)):\n",
    "        for j in range(i,len(s)):\n",
    "            if track[i] and s[i:j+1] in wordDict:#w == s[i-len(w)+1:i+1] and (d[i-len(w)] or i-len(w) == -1):\n",
    "                track[j+1]=True\n",
    "    return track[-1]\n",
    "\n",
    "def wordBreak(self, s, words):\n",
    "    ok = [True]\n",
    "    for i in range(1, len(s)+1):\n",
    "        ok += any(ok[j] and s[j:i] in words for j in range(i)),\n",
    "    return ok[-1]"
   ]
  },
  {
   "cell_type": "code",
   "execution_count": 36,
   "metadata": {},
   "outputs": [],
   "source": [
    "s = \"leetcode\"\n",
    "wordDict = [\"leet\",\"code\"]"
   ]
  },
  {
   "cell_type": "code",
   "execution_count": 37,
   "metadata": {},
   "outputs": [
    {
     "data": {
      "text/plain": [
       "True"
      ]
     },
     "execution_count": 37,
     "metadata": {},
     "output_type": "execute_result"
    }
   ],
   "source": [
    "wordBreak(s, wordDict)"
   ]
  },
  {
   "cell_type": "code",
   "execution_count": null,
   "metadata": {},
   "outputs": [],
   "source": []
  }
 ],
 "metadata": {
  "kernelspec": {
   "display_name": "Python 3",
   "language": "python",
   "name": "python3"
  },
  "language_info": {
   "codemirror_mode": {
    "name": "ipython",
    "version": 3
   },
   "file_extension": ".py",
   "mimetype": "text/x-python",
   "name": "python",
   "nbconvert_exporter": "python",
   "pygments_lexer": "ipython3",
   "version": "3.6.3"
  }
 },
 "nbformat": 4,
 "nbformat_minor": 2
}
