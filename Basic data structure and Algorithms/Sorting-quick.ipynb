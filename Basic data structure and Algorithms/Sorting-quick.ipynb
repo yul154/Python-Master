{
 "cells": [
  {
   "cell_type": "code",
   "execution_count": 14,
   "metadata": {},
   "outputs": [],
   "source": [
    "def quick_sort(lst,low,high):\n",
    "    if low>high:\n",
    "        return\n",
    "    pivot=partition(lst,low,high)\n",
    "    quick_sort(lst,low,pivot-1)\n",
    "    quick_sort(lst,pivot+1,high)\n",
    "    return lst\n",
    "def partition(lst,low,high):\n",
    "    pivot=(low+high)//2\n",
    "    lst[pivot],lst[high]=lst[high],lst[pivot]\n",
    "    i=low\n",
    "    for j in range(low,high):\n",
    "        if lst[j]<=lst[high]:\n",
    "            lst[j],lst[i]=lst[i],lst[j]\n",
    "            i+=1\n",
    "    lst[i],lst[high]=lst[high],lst[i]\n",
    "    return i \n",
    "# def partition(a, left, right):\n",
    "\n",
    "#     pivot = left + (right - left)//2\n",
    "#     a[left],a[pivot] = a[pivot], a[left] # swap\n",
    "#     pivot = left\n",
    "#     left += 1\n",
    "\n",
    "#     while right >= left :\n",
    "#         while left <= right and a[left] <= a[pivot] :\n",
    "#             left += 1\n",
    "#         while left <= right and a[right] > a[pivot] :\n",
    "#             right -= 1\n",
    "\n",
    "#         if left <= right:\n",
    "#             a[left] , a[right] = a[right], a[left] # swap\n",
    "#             left += 1\n",
    "#             right -= 1\n",
    "#         else:\n",
    "#             break\n",
    "\n",
    "#     a[pivot], a[right] = a[right] , a[pivot]\n",
    "\n",
    "#     return right"
   ]
  },
  {
   "cell_type": "code",
   "execution_count": null,
   "metadata": {},
   "outputs": [],
   "source": [
    "def quick_Sort(alist):\n",
    "    quickSortHelper(alist,0,len(alist)-1)\n",
    "    return alist\n",
    "def quickSortHelper(alist,start,end):\n",
    "    if start<end:\n",
    "        pivot=partition(alist,start,end)\n",
    "        quickSortHelper(alist,start,pivot-1)\n",
    "        quickSortHelper(alist,pivot+1,end)\n",
    "def partition(alist,start,end):\n",
    "    pivot=alist[start]\n",
    "    left=start+1\n",
    "    right=end\n",
    "    done=False\n",
    "    while not done:\n",
    "        while left<=right and alist[left]<=pivot:\n",
    "            left+=1\n",
    "        while right>=left and alist[right]>=pivot:\n",
    "            right-=1\n",
    "        if right<left:\n",
    "            done=True\n",
    "        else:\n",
    "            alist[left],alist[right]=alist[right],alist[left]\n",
    "#             temp=alist[left]\n",
    "#             alist[left]=alist[right]\n",
    "#             alist[right]=temp\n",
    "            \n",
    "#     temp=alist[start]\n",
    "#     alist[start]=alist[right]\n",
    "#     alist[right]=temp\n",
    "        alist[start],alist[right]=alist[right],alist[start]\n",
    "    return right\n",
    "            "
   ]
  },
  {
   "cell_type": "code",
   "execution_count": 18,
   "metadata": {},
   "outputs": [
    {
     "data": {
      "text/plain": [
       "[17, 20, 26, 31, 44, 54, 55, 77, 93]"
      ]
     },
     "execution_count": 18,
     "metadata": {},
     "output_type": "execute_result"
    }
   ],
   "source": [
    "alist = [54,26,93,17,77,31,44,55,20]\n",
    "quick_Sort(alist,0,len(alist)-1)\n",
    "alist"
   ]
  },
  {
   "cell_type": "code",
   "execution_count": 17,
   "metadata": {},
   "outputs": [],
   "source": [
    "def quick_Sort(S,a,b):\n",
    "    if a>=b: return\n",
    "    pivot=S[b]\n",
    "    l=a\n",
    "    r=b-1\n",
    "    while l<=r:\n",
    "        while l<=r and S[l]<pivot:\n",
    "            l+=1\n",
    "        while l<=r and pivot<S[r]:\n",
    "            r-=1\n",
    "        if l<r:\n",
    "            S[l],S[r]=S[r],S[l]\n",
    "            l,r=l+1,r-1\n",
    "    S[l],S[b]=S[b],S[l]\n",
    "    quick_Sort(S,a,l-1)\n",
    "    quick_Sort(S,l+1,b)"
   ]
  },
  {
   "cell_type": "code",
   "execution_count": null,
   "metadata": {},
   "outputs": [],
   "source": []
  }
 ],
 "metadata": {
  "kernelspec": {
   "display_name": "Python 3",
   "language": "python",
   "name": "python3"
  },
  "language_info": {
   "codemirror_mode": {
    "name": "ipython",
    "version": 3
   },
   "file_extension": ".py",
   "mimetype": "text/x-python",
   "name": "python",
   "nbconvert_exporter": "python",
   "pygments_lexer": "ipython3",
   "version": "3.6.3"
  }
 },
 "nbformat": 4,
 "nbformat_minor": 2
}
