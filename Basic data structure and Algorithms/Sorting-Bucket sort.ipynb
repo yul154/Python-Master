{
 "cells": [
  {
   "cell_type": "code",
   "execution_count": 19,
   "metadata": {},
   "outputs": [],
   "source": [
    "def bucket_sort(arr):\n",
    "    largest=max(arr)\n",
    "    size=largest/len(arr)\n",
    "    bucket=[[] for num in range(len(arr))]\n",
    "    for i in range(len(arr)):\n",
    "        j=int(arr[i]/size)\n",
    "        if j!=len(arr):\n",
    "            bucket[j].append(arr[i])\n",
    "        else:\n",
    "            bucket[len(arr)-1].append(arr[i])\n",
    "    \n",
    "    for i in range(len(arr)):\n",
    "        insert_sort(bucket[i])\n",
    "    res=[]\n",
    "    for i in range(len(arr)):\n",
    "        res+=bucket[i]\n",
    "    return res"
   ]
  },
  {
   "cell_type": "code",
   "execution_count": 20,
   "metadata": {},
   "outputs": [],
   "source": [
    "def insert_sort(lst):\n",
    "    for i in range(1,len(lst)):\n",
    "        cur=lst[i]\n",
    "        while i>=0 and lst[i-1]>cur:\n",
    "            lst[i]=lst[i-1]\n",
    "            i-=1\n",
    "        lst[i]=cur\n",
    "    return lst"
   ]
  },
  {
   "cell_type": "code",
   "execution_count": 21,
   "metadata": {},
   "outputs": [
    {
     "data": {
      "text/plain": [
       "[1, 2, 3, 5, 7, 9, 10]"
      ]
     },
     "execution_count": 21,
     "metadata": {},
     "output_type": "execute_result"
    }
   ],
   "source": [
    "n=[1,3,5,7,9,2,10]\n",
    "bucket_sort(n)"
   ]
  },
  {
   "cell_type": "code",
   "execution_count": null,
   "metadata": {},
   "outputs": [],
   "source": []
  }
 ],
 "metadata": {
  "kernelspec": {
   "display_name": "Python 3",
   "language": "python",
   "name": "python3"
  },
  "language_info": {
   "codemirror_mode": {
    "name": "ipython",
    "version": 3
   },
   "file_extension": ".py",
   "mimetype": "text/x-python",
   "name": "python",
   "nbconvert_exporter": "python",
   "pygments_lexer": "ipython3",
   "version": "3.6.3"
  }
 },
 "nbformat": 4,
 "nbformat_minor": 2
}
