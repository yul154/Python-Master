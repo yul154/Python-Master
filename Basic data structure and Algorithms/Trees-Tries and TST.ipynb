{
 "cells": [
  {
   "cell_type": "markdown",
   "metadata": {},
   "source": [
    "# Ternary search trees"
   ]
  },
  {
   "cell_type": "code",
   "execution_count": 6,
   "metadata": {},
   "outputs": [],
   "source": [
    "class NOde(object):\n",
    "    def __init__(self,character):\n",
    "        self.character=character\n",
    "        self.left=None\n",
    "        self.middle=None\n",
    "        self.right=None\n",
    "        self.value=0\n",
    "        \n",
    "class TST(object):\n",
    "    def __init__(self):\n",
    "        self.rootNode=None\n",
    "        \n",
    "    def put(self,key,value):\n",
    "        self.rootNode=self.putItem(self.rootNode,key,value,0)\n",
    "    def putitem(self,node,key,value,index):\n",
    "        c=key[index]\n",
    "        if node==None:\n",
    "            node=Node(c)\n",
    "        if c<node.character:\n",
    "            node.left=self.putitem(node.left,key,value,index)\n",
    "        elif c>node.character:\n",
    "            node.right=self.putitem(node.right,key,value,index)\n",
    "        elif index<len(key)-1:\n",
    "            node.middleNode=self.putitem(node.middle,key,index+1)\n",
    "        else:\n",
    "            node.value=value\n",
    "        return node\n",
    "    def get(self,key):\n",
    "        node=self.getitem(self.rootnode,key,0)\n",
    "        if node==None:\n",
    "            return -1\n",
    "        return node.value\n",
    "    \n",
    "    def getItem(self,node,key,index):\n",
    "        if node==None:\n",
    "            return None\n",
    "        c=key[index]\n",
    "        if c<node.character:\n",
    "            return self.getItem(node.left,key,index)\n",
    "        elif c>node.character:\n",
    "            return self.getItem(node.right,key,index)\n",
    "        elif index<len(key)-1:\n",
    "            return self.getItem(node.middle,key,index)\n",
    "        else:\n",
    "            return node\n",
    "            \n",
    "        \n",
    "        "
   ]
  },
  {
   "cell_type": "markdown",
   "metadata": {},
   "source": [
    "# Tries"
   ]
  },
  {
   "cell_type": "code",
   "execution_count": 7,
   "metadata": {},
   "outputs": [],
   "source": [
    "class Node:\n",
    "    def __init__(self,char):\n",
    "        self.char=char\n",
    "        self.child={}\n",
    "        self.word_finished=False\n",
    "        self.count=0\n",
    "    "
   ]
  },
  {
   "cell_type": "code",
   "execution_count": 8,
   "metadata": {},
   "outputs": [
    {
     "ename": "SyntaxError",
     "evalue": "unexpected EOF while parsing (<ipython-input-8-67d680a1ca6a>, line 21)",
     "output_type": "error",
     "traceback": [
      "\u001b[0;36m  File \u001b[0;32m\"<ipython-input-8-67d680a1ca6a>\"\u001b[0;36m, line \u001b[0;32m21\u001b[0m\n\u001b[0;31m    \u001b[0m\n\u001b[0m    ^\u001b[0m\n\u001b[0;31mSyntaxError\u001b[0m\u001b[0;31m:\u001b[0m unexpected EOF while parsing\n"
     ]
    }
   ],
   "source": [
    "class Trie:\n",
    "    def __init__(self):\n",
    "        self.root=Node(\"*\")\n",
    "    def insert(self,word):\n",
    "        current=self.root\n",
    "        for char in word:\n",
    "            if char in current.children:\n",
    "                current=current.children[char]\n",
    "                current.count+=1\n",
    "            else:\n",
    "                new_node=Node(char)\n",
    "                current.children[char]=new_node\n",
    "                current=current.new_node\n",
    "                current.count+=1\n",
    "        current.word_finised=True\n",
    "    def search(self,word):\n",
    "        if not self.root.children:\n",
    "            return False\n",
    "        current=self.root\n",
    "        for char in word:\n",
    "            \n",
    "            if char in current.word:\n",
    "                current=current.children[char]\n",
    "            else:\n",
    "                return False\n",
    "        if currrent.word_finished:\n",
    "                return True\n",
    "        return False\n",
    "                "
   ]
  },
  {
   "cell_type": "code",
   "execution_count": null,
   "metadata": {},
   "outputs": [],
   "source": []
  }
 ],
 "metadata": {
  "kernelspec": {
   "display_name": "Python 3",
   "language": "python",
   "name": "python3"
  },
  "language_info": {
   "codemirror_mode": {
    "name": "ipython",
    "version": 3
   },
   "file_extension": ".py",
   "mimetype": "text/x-python",
   "name": "python",
   "nbconvert_exporter": "python",
   "pygments_lexer": "ipython3",
   "version": "3.6.3"
  }
 },
 "nbformat": 4,
 "nbformat_minor": 2
}
