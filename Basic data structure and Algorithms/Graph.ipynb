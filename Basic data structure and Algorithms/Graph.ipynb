{
 "cells": [
  {
   "cell_type": "markdown",
   "metadata": {},
   "source": [
    "# Graph represent as an adjacent list"
   ]
  },
  {
   "cell_type": "code",
   "execution_count": 4,
   "metadata": {},
   "outputs": [],
   "source": [
    "class Vertex:\n",
    "    def __init__(self,k):\n",
    "        self.k=k\n",
    "        self.connections={}\n",
    "    def addNeighbor(self,neighbor,weight=0):\n",
    "        self.connection[neighbor]=weight\n",
    "    def getConnections(self):\n",
    "        return self.connections.keys()\n",
    "    def getId(self):\n",
    "        return self.k\n",
    "    def getWeight(self,nbr):\n",
    "        return self.connections[nbr]\n",
    "    def __str__(self):\n",
    "        return str(self.k)+'<-->'+str([x.id for x in self.connections])\n",
    "\n",
    "class Graph(object):\n",
    "    def __init__(self):\n",
    "        self.vertlist={}\n",
    "        self.Vnumbers=0\n",
    "    def addVertex(self,key):\n",
    "        self.Vnumbers+=1\n",
    "        new=Vertex(key)\n",
    "        self.vertlist[key]=new\n",
    "        return new\n",
    "    def getVertex(self,key):\n",
    "        if key in self.vertlist:\n",
    "            return self.vertlist[key]\n",
    "        else:\n",
    "            return None\n",
    "    def __contain__(self,n):\n",
    "        return n in self.vertlist\n",
    "    def addEdge(self,f,t,weight=0):\n",
    "        if f not in self.vertlist:\n",
    "            new=self.addVertex(f)\n",
    "        if t not in self.vertlist:\n",
    "            new=self.addVertex(t)\n",
    "        self.vertlist[f].addNeighbor[self.vertlist[t],weight]\n",
    "    def getVertices(self):\n",
    "        return self.vertlist.keys()\n",
    "    def __iter__(self):\n",
    "        return iter(self.vertlist.values())"
   ]
  },
  {
   "cell_type": "markdown",
   "metadata": {},
   "source": [
    "# The Word Ladder Problem(BFS)\n",
    "* transform one word to another word\n",
    "    1. Must make the change occur gradually by changing one letter at a time\n",
    "    2. At each step you must transform one word into another word, you are not allowed to transform a word into a non-word."
   ]
  },
  {
   "cell_type": "code",
   "execution_count": 15,
   "metadata": {},
   "outputs": [],
   "source": [
    "from pythonds.graphs import Graph\n",
    "def buildGraph(file):\n",
    "    d={}\n",
    "    g=Graph()\n",
    "    file=open(file,'r')\n",
    "    for line in file:\n",
    "        word=line[:-1]\n",
    "        for i in range(len(word)):\n",
    "            key=word[:i]+'_'+word[i+1:]\n",
    "            if key in d:\n",
    "                d[key].append(word)\n",
    "            else:\n",
    "                d[key]=[word]\n",
    "    for key in d.keys():\n",
    "        for word1 in d[key]:\n",
    "            for word2 in d[key]:\n",
    "                if word1!=word2:\n",
    "                    g.addEdge(word1,word2)\n",
    "    return g\n"
   ]
  },
  {
   "cell_type": "code",
   "execution_count": 17,
   "metadata": {},
   "outputs": [],
   "source": [
    "\n",
    "from pythonds.graphs import Graph, Vertex\n",
    "from pythonds.basic import Queue\n",
    "def bfs(g,start):\n",
    "    start.setDistance(0)\n",
    "    start.setPred(None)\n",
    "    q=Queue()\n",
    "    q.enqueue(start)\n",
    "    q.color=gray\n",
    "    while not q.isEmptry():\n",
    "        current=q.dequeue()\n",
    "        for n in current.connections():\n",
    "            if n.getColor()=='white':\n",
    "                n.setColor('gray')\n",
    "                n.setDistance(current.getDistnce()+1)\n",
    "                n.setPred=current\n",
    "                q.enqueue(n)\n",
    "        n.color=black"
   ]
  },
  {
   "cell_type": "markdown",
   "metadata": {},
   "source": [
    "# The Knight’s Tour Problem\n",
    "> Find a sequence of moves that allow the knight to visit every square on the board exactly once"
   ]
  },
  {
   "cell_type": "code",
   "execution_count": 18,
   "metadata": {},
   "outputs": [],
   "source": [
    "# build graph\n",
    "from pythonds.graphs import Graph\n",
    "def knightGraph(bsize):\n",
    "    g=Graph()\n",
    "    for row in range(bsize):\n",
    "        for col in range(bsize):\n",
    "            nodeId=(row*bsize)+col\n",
    "            next_positions=legalmoves(row,col,bsize)\n",
    "            for e in next_positions:\n",
    "                next_id=e[0]*bsize+e[1]\n",
    "                g.addEdge(nodeId,next_id)\n",
    "def legalmoves(x,y,size):\n",
    "    next_move=[]\n",
    "    moveOffsets = [(-1,-2),(-1,2),(-2,-1),(-2,1),\n",
    "                   ( 1,-2),( 1,2),( 2,-1),( 2,1)]\n",
    "    for i in moveOffsets:\n",
    "        next_x=x+i[0]\n",
    "        next_y=x+i[1]\n",
    "        if next_x<bsize and next_y<bsize:\n",
    "            next_move.append((next_x,next_y))\n",
    "    return next_move"
   ]
  },
  {
   "cell_type": "code",
   "execution_count": 19,
   "metadata": {},
   "outputs": [],
   "source": [
    "# DFS\n",
    "from pythonds.graphs import Graph, Vertex\n",
    "def knightTour(n,path,u,limit):\n",
    "    u.setColor('gray')\n",
    "    path.append(u)\n",
    "    if n<limit:\n",
    "        nbr=list(n.connections())\n",
    "        i=0\n",
    "        done=False\n",
    "        while i<len(nbrList) and not done:\n",
    "            if nbr[i].getColor=='white':\n",
    "                done =knightTour(n+1,path,nbr[i],limit)\n",
    "            i+=1\n",
    "        if not done:\n",
    "            path.pop()\n",
    "            u.setColor('white')\n",
    "    else:\n",
    "        done=True\n",
    "    return done"
   ]
  },
  {
   "cell_type": "markdown",
   "metadata": {},
   "source": [
    "# Dijkstra’s Algorithm"
   ]
  },
  {
   "cell_type": "code",
   "execution_count": 21,
   "metadata": {},
   "outputs": [],
   "source": [
    "from pythonds.graphs import PriorityQueue, Graph, Vertex\n",
    "def dijkstra(graph,start):\n",
    "    pq=PriorityQueue()\n",
    "    start.setdistance(0)\n",
    "    pq.buildHeap([(v.getDistance(),v) for v in graph])\n",
    "    while not pq.isEmpty():\n",
    "        current=pq.delMin()\n",
    "        \n",
    "        for next_ in current.connections():\n",
    "            newDist=current.getDistance()+current.getWeight(next_)\n",
    "            if newDist<next_.getDistance():\n",
    "                next_.setDistance(newDist)\n",
    "                next_.setPred(current)\n",
    "                pq.decreaseKey(next_,newDist)\n"
   ]
  },
  {
   "cell_type": "markdown",
   "metadata": {},
   "source": [
    "# Prim Algorithm"
   ]
  },
  {
   "cell_type": "code",
   "execution_count": null,
   "metadata": {},
   "outputs": [],
   "source": [
    "from pythonds.graphs import PriorityQueue, Graph, Vertex\n",
    "def prim(G,start):\n",
    "    pq=PriorityQueue()\n",
    "    for v in G:\n",
    "        v.setDistance(sys.maxsize)\n",
    "        v.setPred(None)\n",
    "    start.setdistance(0)\n",
    "    pq.buildHeap([(v.getDistance(),v) for v in G])\n",
    "    while not pq.isEmpty():\n",
    "        current=pq.pop()\n",
    "        for nextV in current.connections():\n",
    "            newcost=current.getCost(nextV)\n",
    "            if nextV in pq, and newcost<nextV.getdistance():\n",
    "                nextV.setPred(current)\n",
    "                nextV.setDistance(newcost)\n",
    "                pq.decreaseKey(nextVert,newCost)"
   ]
  }
 ],
 "metadata": {
  "kernelspec": {
   "display_name": "Python 3",
   "language": "python",
   "name": "python3"
  },
  "language_info": {
   "codemirror_mode": {
    "name": "ipython",
    "version": 3
   },
   "file_extension": ".py",
   "mimetype": "text/x-python",
   "name": "python",
   "nbconvert_exporter": "python",
   "pygments_lexer": "ipython3",
   "version": "3.6.3"
  }
 },
 "nbformat": 4,
 "nbformat_minor": 2
}
