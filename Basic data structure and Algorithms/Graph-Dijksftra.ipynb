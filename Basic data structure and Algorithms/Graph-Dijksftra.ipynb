{
 "cells": [
  {
   "cell_type": "code",
   "execution_count": null,
   "metadata": {},
   "outputs": [],
   "source": [
    "DIJKSTRA(G, s)\n",
    "S = EMPTY\n",
    "Insert all vertexes into Q\n",
    "While Q is not empty\n",
    "    u = Q.top\n",
    "    S.insert(u)\n",
    "    For each v is the neighbor of u\n",
    "        If d[v] > d[u] + weight(u, v)\n",
    "            d[v] = d[u] + weight(u, v)\n",
    "            parent[v] = u"
   ]
  },
  {
   "cell_type": "code",
   "execution_count": 3,
   "metadata": {},
   "outputs": [],
   "source": [
    "# Udemy\n",
    "import sys;\n",
    "import heapq;\n",
    "\n",
    "class Edge(object):\n",
    "    def __init__(self,weight,start,target):\n",
    "        self.weight=weight\n",
    "        self.start=start\n",
    "        self.target=target\n",
    "        \n",
    "class Node(object):\n",
    "    def __init__(self,name):\n",
    "        self.name=name\n",
    "        self.visited=False\n",
    "        self.predecessor=None\n",
    "        self.adjacent=[]\n",
    "        self.min_distance=sys.maxsize# initial infinite\n",
    "    def __cmp__(self,other):# attribute to compare\n",
    "        return self.cmp(self.min_distance,other.min_distance)\n",
    "    def __lt__(self,other):# define minmum or maximum\n",
    "        self_Priority=self.min_distance\n",
    "        other_Priority=other.min_distance\n",
    "        return self_Priority<other_Priority\n",
    "    \n",
    "class Dijksftra(object):\n",
    "    def calculate_short_path(self,vertex_list,start):\n",
    "        q=[]\n",
    "        start.min_distance=0\n",
    "        heapq.heappush(q,start)\n",
    "        while len(q)>0:\n",
    "            current=heapq.heappop(q)\n",
    "            for edge in current.adjacent:\n",
    "                u=edge.start\n",
    "                v=edge.target\n",
    "                temp=u.min_distance+edge.weight\n",
    "                if temp<v.min_distance:\n",
    "                    v.predecessor=u\n",
    "                    v.min_distane=temp\n",
    "                    heapq.push(q,v)\n",
    "                    \n",
    "    def get_short_path(self,target):\n",
    "        print('Short path to vertex:',target.min_distance)\n",
    "        node=target\n",
    "        while node is not None:\n",
    "            print('%s'% node.name)\n",
    "            node=node.predecessor\n",
    "            "
   ]
  },
  {
   "cell_type": "code",
   "execution_count": null,
   "metadata": {},
   "outputs": [],
   "source": []
  }
 ],
 "metadata": {
  "kernelspec": {
   "display_name": "Python 3",
   "language": "python",
   "name": "python3"
  },
  "language_info": {
   "codemirror_mode": {
    "name": "ipython",
    "version": 3
   },
   "file_extension": ".py",
   "mimetype": "text/x-python",
   "name": "python",
   "nbconvert_exporter": "python",
   "pygments_lexer": "ipython3",
   "version": "3.6.3"
  }
 },
 "nbformat": 4,
 "nbformat_minor": 2
}
