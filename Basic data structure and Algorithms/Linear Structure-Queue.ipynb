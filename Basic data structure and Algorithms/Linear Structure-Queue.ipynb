{
 "cells": [
  {
   "cell_type": "markdown",
   "metadata": {},
   "source": [
    "# Queue in Python library\n",
    "\n",
    "name    |function\n",
    "--------|---------------------------------------------------\n",
    "append(x)| Add x to the right side of the deque.\n",
    "appendleft(x)| Add x to the left side of the deque.\n",
    "clear()| Remove all elements from the deque leaving it with length 0.\n",
    "copy()| Create a shallow copy of the deque.\n",
    "count(x)|Count the number of deque elements equal to x.\n",
    "extend(iterable)|Extend the right side of the deque by appending elements from the iterable argument.\n",
    "extendleft(iterable)|Extend the left side of the deque by appending elements from iterable. Note, the series of left appends results in reversing the order of elements in the iterable argument.\n",
    "index(x[, start[, stop]])|Return the position of x in the deque (at or after index start and before index stop). Returns the first match or raises ValueError if not found.\n",
    "insert(i, x)|Insert x into the deque at position i.\n",
    "pop()|Remove and return an element from the right side of the deque. If no elements are present, raises an IndexError.\n",
    "popleft()|Remove and return an element from the left side of the deque. If no elements are present, raises an IndexError.\n",
    "remove(value)|Remove the first occurrence of value. If not found, raises a ValueError.\n",
    "reverse()|Reverse the elements of the deque in-place and then return None.\n",
    "rotate(n=1)|Rotate the deque n steps to the right. If n is negative, rotate to the left.\n",
    "maxlen|Maximum size of a deque or None if unbounded."
   ]
  },
  {
   "cell_type": "code",
   "execution_count": null,
   "metadata": {},
   "outputs": [],
   "source": [
    "from collections import deque"
   ]
  },
  {
   "cell_type": "markdown",
   "metadata": {},
   "source": [
    "# Abstract data type \n",
    "Operations|Description\n",
    "---------|--------------\n",
    "Queue()|creates a new queue that is empty. It needs no parameters and returns an empty queue.\n",
    "enqueue(item)|adds a new item to the rear of the queue. It needs the item and returns nothing.\n",
    "dequeue()|removes the front item from the queue. It needs no parameters and returns the item. The queue is modified.\n",
    "isEmpty()|tests to see whether the queue is empty. It needs no parameters and returns a boolean value.\n",
    "size()|returns the number of items in the queue. It needs no parameters and returns an integer."
   ]
  },
  {
   "cell_type": "code",
   "execution_count": 24,
   "metadata": {},
   "outputs": [],
   "source": [
    "class Queue(object):\n",
    "    def __init__(self):\n",
    "        self.queue=[]\n",
    "    def enqueue(self,item):\n",
    "        self.queue.append(item)\n",
    "    def dequeue(self):\n",
    "        return self.queue.pop(0)\n",
    "    def isEmpty(self):\n",
    "        return self.queue==[]\n",
    "    def size(self):\n",
    "        return len(self.queue)"
   ]
  },
  {
   "cell_type": "markdown",
   "metadata": {},
   "source": [
    "# Josephus Problem"
   ]
  },
  {
   "cell_type": "code",
   "execution_count": 25,
   "metadata": {},
   "outputs": [
    {
     "name": "stdout",
     "output_type": "stream",
     "text": [
      "Susan\n"
     ]
    }
   ],
   "source": [
    "def hotPotato(lst,num):\n",
    "    q=Queue()\n",
    "    for i in lst:\n",
    "        q.enqueue(i)\n",
    "    while q.size()>1:\n",
    "        n=num\n",
    "        while n>0:\n",
    "            q.enqueue(q.dequeue())\n",
    "            n-=1\n",
    "        q.dequeue()\n",
    "    return q.dequeue()\n",
    "print(hotPotato([\"Bill\",\"David\",\"Susan\",\"Jane\",\"Kent\",\"Brad\"],7))"
   ]
  },
  {
   "cell_type": "markdown",
   "metadata": {},
   "source": [
    "# Simulation: Printing Tasks\n",
    "\n",
    "* task:  Each task will be given a timestamp upon its arrival\n",
    "* Printer:\n",
    "* PrinterQueue:"
   ]
  },
  {
   "cell_type": "code",
   "execution_count": null,
   "metadata": {},
   "outputs": [],
   "source": []
  },
  {
   "cell_type": "markdown",
   "metadata": {},
   "source": [
    "# Deque Abstract data type\n",
    "\n",
    "Methods|Description \n",
    "-------|--------------\n",
    "Deque()| creates a new deque that is empty. It needs no parameters and returns an empty deque.\n",
    "addFront(item)| adds a new item to the front of the deque. It needs the item and returns nothing.\n",
    "addRear(item)| adds a new item to the rear of the deque. It needs the item and returns nothing.\n",
    "removeFront()| removes the front item from the deque. It needs no parameters and returns the item. The deque is modified.\n",
    "removeRear()| removes the rear item from the deque. It needs no parameters and returns the item. The deque is modified.\n",
    "isEmpty()| tests to see whether the deque is empty. It needs no parameters and returns a boolean value.\n",
    "size()| returns the number of items in the deque. It needs no parameters and returns an integer."
   ]
  },
  {
   "cell_type": "code",
   "execution_count": 26,
   "metadata": {},
   "outputs": [],
   "source": [
    "class Deque(object):\n",
    "    def __init__(self):\n",
    "        self.deque=[]\n",
    "    def addFront(self,item):\n",
    "        self.deque.append(item)\n",
    "    def addRear(self,item):\n",
    "        self.deque.insert(0,item)\n",
    "    def removeFront(self):\n",
    "        return self.deque.pop()\n",
    "    def removeRear(self):\n",
    "        return self.deque.pop(0)\n",
    "    def isEmpty(self):\n",
    "        return self.deque==[]\n",
    "    def size(self):\n",
    "        return len(self.deque)\n",
    "    "
   ]
  },
  {
   "cell_type": "markdown",
   "metadata": {},
   "source": [
    "# palindrome \n",
    "\n",
    "> a string that reads the same forward and backward"
   ]
  },
  {
   "cell_type": "code",
   "execution_count": 33,
   "metadata": {},
   "outputs": [
    {
     "data": {
      "text/plain": [
       "True"
      ]
     },
     "execution_count": 33,
     "metadata": {},
     "output_type": "execute_result"
    }
   ],
   "source": [
    "def palChecker(string):\n",
    "    q=Deque()\n",
    "    for i in string:\n",
    "        q.addFront(i)\n",
    "    while q.size()>1:\n",
    "        if q.removeFront()!=q.removeRear():\n",
    "            return False\n",
    "    return True\n",
    "palChecker(\"radar\")"
   ]
  },
  {
   "cell_type": "code",
   "execution_count": null,
   "metadata": {},
   "outputs": [],
   "source": []
  },
  {
   "cell_type": "code",
   "execution_count": null,
   "metadata": {},
   "outputs": [],
   "source": []
  }
 ],
 "metadata": {
  "kernelspec": {
   "display_name": "Python 3",
   "language": "python",
   "name": "python3"
  },
  "language_info": {
   "codemirror_mode": {
    "name": "ipython",
    "version": 3
   },
   "file_extension": ".py",
   "mimetype": "text/x-python",
   "name": "python",
   "nbconvert_exporter": "python",
   "pygments_lexer": "ipython3",
   "version": "3.6.3"
  }
 },
 "nbformat": 4,
 "nbformat_minor": 2
}
